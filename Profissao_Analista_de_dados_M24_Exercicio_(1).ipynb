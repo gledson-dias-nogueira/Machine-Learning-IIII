{
  "nbformat": 4,
  "nbformat_minor": 0,
  "metadata": {
    "colab": {
      "provenance": [],
      "toc_visible": true
    },
    "kernelspec": {
      "name": "python3",
      "display_name": "Python 3"
    }
  },
  "cells": [
    {
      "cell_type": "markdown",
      "metadata": {
        "id": "KJqp9AANOCtf"
      },
      "source": [
        "<img src=\"https://raw.githubusercontent.com/andre-marcos-perez/ebac-course-utils/main/media/logo/newebac_logo_black_half.png\" alt=\"ebac-logo\">\n",
        "\n",
        "---\n",
        "\n",
        "# **Módulo** | Análise de Dados: Aprendizado de Máquina, Classificação\n",
        "Caderno de **Exercícios**<br>\n",
        "Professor [André Perez](https://www.linkedin.com/in/andremarcosperez/)\n",
        "\n",
        "---"
      ]
    },
    {
      "cell_type": "markdown",
      "metadata": {
        "id": "d9jDtUbDOE1-"
      },
      "source": [
        "# **Tópicos**\n",
        "\n",
        "<ol type=\"1\">\n",
        "  <li>Classificação;</li>\n",
        "  <li>Dados;</li>\n",
        "  <li>Treino;</li>\n",
        "  <li>Avaliação;</li>\n",
        "  <li>Predição.</li>\n",
        "</ol>"
      ]
    },
    {
      "cell_type": "markdown",
      "metadata": {
        "id": "SmoHgt-lwkpD"
      },
      "source": [
        "---"
      ]
    },
    {
      "cell_type": "markdown",
      "metadata": {
        "id": "GABI6OW8OfQ2"
      },
      "source": [
        "# **Exercícios**"
      ]
    },
    {
      "cell_type": "markdown",
      "metadata": {
        "id": "kzRDceCvkFj2"
      },
      "source": [
        "## 1\\. Pinguins"
      ]
    },
    {
      "cell_type": "markdown",
      "metadata": {
        "id": "WCQi-s0Hpd5V"
      },
      "source": [
        "Neste exercício, vamos utilizar uma base de dados com informações sobre penguins. A idéia é prever a espécie do penguin (**species**) baseado em suas características físicas e geográficas (variáveis preditivas)."
      ]
    },
    {
      "cell_type": "code",
      "metadata": {
        "id": "lblH8kIXzPZZ"
      },
      "source": [
        "import sklearn\n",
        "import numpy as np\n",
        "import pandas as pd\n",
        "import seaborn as sns"
      ],
      "execution_count": null,
      "outputs": []
    },
    {
      "cell_type": "code",
      "metadata": {
        "id": "VR3UdrrQgJ4K"
      },
      "source": [
        "penguim = sns.load_dataset('penguins')"
      ],
      "execution_count": null,
      "outputs": []
    },
    {
      "cell_type": "code",
      "metadata": {
        "id": "znk9Z9TLgTGP",
        "colab": {
          "base_uri": "https://localhost:8080/",
          "height": 833
        },
        "outputId": "556277a6-49ab-4136-a42e-bea24eed0e2e"
      },
      "source": [
        "penguim.head(25)"
      ],
      "execution_count": null,
      "outputs": [
        {
          "output_type": "execute_result",
          "data": {
            "text/plain": [
              "   species     island  bill_length_mm  bill_depth_mm  flipper_length_mm  \\\n",
              "0   Adelie  Torgersen            39.1           18.7              181.0   \n",
              "1   Adelie  Torgersen            39.5           17.4              186.0   \n",
              "2   Adelie  Torgersen            40.3           18.0              195.0   \n",
              "3   Adelie  Torgersen             NaN            NaN                NaN   \n",
              "4   Adelie  Torgersen            36.7           19.3              193.0   \n",
              "5   Adelie  Torgersen            39.3           20.6              190.0   \n",
              "6   Adelie  Torgersen            38.9           17.8              181.0   \n",
              "7   Adelie  Torgersen            39.2           19.6              195.0   \n",
              "8   Adelie  Torgersen            34.1           18.1              193.0   \n",
              "9   Adelie  Torgersen            42.0           20.2              190.0   \n",
              "10  Adelie  Torgersen            37.8           17.1              186.0   \n",
              "11  Adelie  Torgersen            37.8           17.3              180.0   \n",
              "12  Adelie  Torgersen            41.1           17.6              182.0   \n",
              "13  Adelie  Torgersen            38.6           21.2              191.0   \n",
              "14  Adelie  Torgersen            34.6           21.1              198.0   \n",
              "15  Adelie  Torgersen            36.6           17.8              185.0   \n",
              "16  Adelie  Torgersen            38.7           19.0              195.0   \n",
              "17  Adelie  Torgersen            42.5           20.7              197.0   \n",
              "18  Adelie  Torgersen            34.4           18.4              184.0   \n",
              "19  Adelie  Torgersen            46.0           21.5              194.0   \n",
              "20  Adelie     Biscoe            37.8           18.3              174.0   \n",
              "21  Adelie     Biscoe            37.7           18.7              180.0   \n",
              "22  Adelie     Biscoe            35.9           19.2              189.0   \n",
              "23  Adelie     Biscoe            38.2           18.1              185.0   \n",
              "24  Adelie     Biscoe            38.8           17.2              180.0   \n",
              "\n",
              "    body_mass_g     sex  \n",
              "0        3750.0    Male  \n",
              "1        3800.0  Female  \n",
              "2        3250.0  Female  \n",
              "3           NaN     NaN  \n",
              "4        3450.0  Female  \n",
              "5        3650.0    Male  \n",
              "6        3625.0  Female  \n",
              "7        4675.0    Male  \n",
              "8        3475.0     NaN  \n",
              "9        4250.0     NaN  \n",
              "10       3300.0     NaN  \n",
              "11       3700.0     NaN  \n",
              "12       3200.0  Female  \n",
              "13       3800.0    Male  \n",
              "14       4400.0    Male  \n",
              "15       3700.0  Female  \n",
              "16       3450.0  Female  \n",
              "17       4500.0    Male  \n",
              "18       3325.0  Female  \n",
              "19       4200.0    Male  \n",
              "20       3400.0  Female  \n",
              "21       3600.0    Male  \n",
              "22       3800.0  Female  \n",
              "23       3950.0    Male  \n",
              "24       3800.0    Male  "
            ],
            "text/html": [
              "\n",
              "  <div id=\"df-1515361c-734d-4c8b-a54e-f82012950c6d\" class=\"colab-df-container\">\n",
              "    <div>\n",
              "<style scoped>\n",
              "    .dataframe tbody tr th:only-of-type {\n",
              "        vertical-align: middle;\n",
              "    }\n",
              "\n",
              "    .dataframe tbody tr th {\n",
              "        vertical-align: top;\n",
              "    }\n",
              "\n",
              "    .dataframe thead th {\n",
              "        text-align: right;\n",
              "    }\n",
              "</style>\n",
              "<table border=\"1\" class=\"dataframe\">\n",
              "  <thead>\n",
              "    <tr style=\"text-align: right;\">\n",
              "      <th></th>\n",
              "      <th>species</th>\n",
              "      <th>island</th>\n",
              "      <th>bill_length_mm</th>\n",
              "      <th>bill_depth_mm</th>\n",
              "      <th>flipper_length_mm</th>\n",
              "      <th>body_mass_g</th>\n",
              "      <th>sex</th>\n",
              "    </tr>\n",
              "  </thead>\n",
              "  <tbody>\n",
              "    <tr>\n",
              "      <th>0</th>\n",
              "      <td>Adelie</td>\n",
              "      <td>Torgersen</td>\n",
              "      <td>39.1</td>\n",
              "      <td>18.7</td>\n",
              "      <td>181.0</td>\n",
              "      <td>3750.0</td>\n",
              "      <td>Male</td>\n",
              "    </tr>\n",
              "    <tr>\n",
              "      <th>1</th>\n",
              "      <td>Adelie</td>\n",
              "      <td>Torgersen</td>\n",
              "      <td>39.5</td>\n",
              "      <td>17.4</td>\n",
              "      <td>186.0</td>\n",
              "      <td>3800.0</td>\n",
              "      <td>Female</td>\n",
              "    </tr>\n",
              "    <tr>\n",
              "      <th>2</th>\n",
              "      <td>Adelie</td>\n",
              "      <td>Torgersen</td>\n",
              "      <td>40.3</td>\n",
              "      <td>18.0</td>\n",
              "      <td>195.0</td>\n",
              "      <td>3250.0</td>\n",
              "      <td>Female</td>\n",
              "    </tr>\n",
              "    <tr>\n",
              "      <th>3</th>\n",
              "      <td>Adelie</td>\n",
              "      <td>Torgersen</td>\n",
              "      <td>NaN</td>\n",
              "      <td>NaN</td>\n",
              "      <td>NaN</td>\n",
              "      <td>NaN</td>\n",
              "      <td>NaN</td>\n",
              "    </tr>\n",
              "    <tr>\n",
              "      <th>4</th>\n",
              "      <td>Adelie</td>\n",
              "      <td>Torgersen</td>\n",
              "      <td>36.7</td>\n",
              "      <td>19.3</td>\n",
              "      <td>193.0</td>\n",
              "      <td>3450.0</td>\n",
              "      <td>Female</td>\n",
              "    </tr>\n",
              "    <tr>\n",
              "      <th>5</th>\n",
              "      <td>Adelie</td>\n",
              "      <td>Torgersen</td>\n",
              "      <td>39.3</td>\n",
              "      <td>20.6</td>\n",
              "      <td>190.0</td>\n",
              "      <td>3650.0</td>\n",
              "      <td>Male</td>\n",
              "    </tr>\n",
              "    <tr>\n",
              "      <th>6</th>\n",
              "      <td>Adelie</td>\n",
              "      <td>Torgersen</td>\n",
              "      <td>38.9</td>\n",
              "      <td>17.8</td>\n",
              "      <td>181.0</td>\n",
              "      <td>3625.0</td>\n",
              "      <td>Female</td>\n",
              "    </tr>\n",
              "    <tr>\n",
              "      <th>7</th>\n",
              "      <td>Adelie</td>\n",
              "      <td>Torgersen</td>\n",
              "      <td>39.2</td>\n",
              "      <td>19.6</td>\n",
              "      <td>195.0</td>\n",
              "      <td>4675.0</td>\n",
              "      <td>Male</td>\n",
              "    </tr>\n",
              "    <tr>\n",
              "      <th>8</th>\n",
              "      <td>Adelie</td>\n",
              "      <td>Torgersen</td>\n",
              "      <td>34.1</td>\n",
              "      <td>18.1</td>\n",
              "      <td>193.0</td>\n",
              "      <td>3475.0</td>\n",
              "      <td>NaN</td>\n",
              "    </tr>\n",
              "    <tr>\n",
              "      <th>9</th>\n",
              "      <td>Adelie</td>\n",
              "      <td>Torgersen</td>\n",
              "      <td>42.0</td>\n",
              "      <td>20.2</td>\n",
              "      <td>190.0</td>\n",
              "      <td>4250.0</td>\n",
              "      <td>NaN</td>\n",
              "    </tr>\n",
              "    <tr>\n",
              "      <th>10</th>\n",
              "      <td>Adelie</td>\n",
              "      <td>Torgersen</td>\n",
              "      <td>37.8</td>\n",
              "      <td>17.1</td>\n",
              "      <td>186.0</td>\n",
              "      <td>3300.0</td>\n",
              "      <td>NaN</td>\n",
              "    </tr>\n",
              "    <tr>\n",
              "      <th>11</th>\n",
              "      <td>Adelie</td>\n",
              "      <td>Torgersen</td>\n",
              "      <td>37.8</td>\n",
              "      <td>17.3</td>\n",
              "      <td>180.0</td>\n",
              "      <td>3700.0</td>\n",
              "      <td>NaN</td>\n",
              "    </tr>\n",
              "    <tr>\n",
              "      <th>12</th>\n",
              "      <td>Adelie</td>\n",
              "      <td>Torgersen</td>\n",
              "      <td>41.1</td>\n",
              "      <td>17.6</td>\n",
              "      <td>182.0</td>\n",
              "      <td>3200.0</td>\n",
              "      <td>Female</td>\n",
              "    </tr>\n",
              "    <tr>\n",
              "      <th>13</th>\n",
              "      <td>Adelie</td>\n",
              "      <td>Torgersen</td>\n",
              "      <td>38.6</td>\n",
              "      <td>21.2</td>\n",
              "      <td>191.0</td>\n",
              "      <td>3800.0</td>\n",
              "      <td>Male</td>\n",
              "    </tr>\n",
              "    <tr>\n",
              "      <th>14</th>\n",
              "      <td>Adelie</td>\n",
              "      <td>Torgersen</td>\n",
              "      <td>34.6</td>\n",
              "      <td>21.1</td>\n",
              "      <td>198.0</td>\n",
              "      <td>4400.0</td>\n",
              "      <td>Male</td>\n",
              "    </tr>\n",
              "    <tr>\n",
              "      <th>15</th>\n",
              "      <td>Adelie</td>\n",
              "      <td>Torgersen</td>\n",
              "      <td>36.6</td>\n",
              "      <td>17.8</td>\n",
              "      <td>185.0</td>\n",
              "      <td>3700.0</td>\n",
              "      <td>Female</td>\n",
              "    </tr>\n",
              "    <tr>\n",
              "      <th>16</th>\n",
              "      <td>Adelie</td>\n",
              "      <td>Torgersen</td>\n",
              "      <td>38.7</td>\n",
              "      <td>19.0</td>\n",
              "      <td>195.0</td>\n",
              "      <td>3450.0</td>\n",
              "      <td>Female</td>\n",
              "    </tr>\n",
              "    <tr>\n",
              "      <th>17</th>\n",
              "      <td>Adelie</td>\n",
              "      <td>Torgersen</td>\n",
              "      <td>42.5</td>\n",
              "      <td>20.7</td>\n",
              "      <td>197.0</td>\n",
              "      <td>4500.0</td>\n",
              "      <td>Male</td>\n",
              "    </tr>\n",
              "    <tr>\n",
              "      <th>18</th>\n",
              "      <td>Adelie</td>\n",
              "      <td>Torgersen</td>\n",
              "      <td>34.4</td>\n",
              "      <td>18.4</td>\n",
              "      <td>184.0</td>\n",
              "      <td>3325.0</td>\n",
              "      <td>Female</td>\n",
              "    </tr>\n",
              "    <tr>\n",
              "      <th>19</th>\n",
              "      <td>Adelie</td>\n",
              "      <td>Torgersen</td>\n",
              "      <td>46.0</td>\n",
              "      <td>21.5</td>\n",
              "      <td>194.0</td>\n",
              "      <td>4200.0</td>\n",
              "      <td>Male</td>\n",
              "    </tr>\n",
              "    <tr>\n",
              "      <th>20</th>\n",
              "      <td>Adelie</td>\n",
              "      <td>Biscoe</td>\n",
              "      <td>37.8</td>\n",
              "      <td>18.3</td>\n",
              "      <td>174.0</td>\n",
              "      <td>3400.0</td>\n",
              "      <td>Female</td>\n",
              "    </tr>\n",
              "    <tr>\n",
              "      <th>21</th>\n",
              "      <td>Adelie</td>\n",
              "      <td>Biscoe</td>\n",
              "      <td>37.7</td>\n",
              "      <td>18.7</td>\n",
              "      <td>180.0</td>\n",
              "      <td>3600.0</td>\n",
              "      <td>Male</td>\n",
              "    </tr>\n",
              "    <tr>\n",
              "      <th>22</th>\n",
              "      <td>Adelie</td>\n",
              "      <td>Biscoe</td>\n",
              "      <td>35.9</td>\n",
              "      <td>19.2</td>\n",
              "      <td>189.0</td>\n",
              "      <td>3800.0</td>\n",
              "      <td>Female</td>\n",
              "    </tr>\n",
              "    <tr>\n",
              "      <th>23</th>\n",
              "      <td>Adelie</td>\n",
              "      <td>Biscoe</td>\n",
              "      <td>38.2</td>\n",
              "      <td>18.1</td>\n",
              "      <td>185.0</td>\n",
              "      <td>3950.0</td>\n",
              "      <td>Male</td>\n",
              "    </tr>\n",
              "    <tr>\n",
              "      <th>24</th>\n",
              "      <td>Adelie</td>\n",
              "      <td>Biscoe</td>\n",
              "      <td>38.8</td>\n",
              "      <td>17.2</td>\n",
              "      <td>180.0</td>\n",
              "      <td>3800.0</td>\n",
              "      <td>Male</td>\n",
              "    </tr>\n",
              "  </tbody>\n",
              "</table>\n",
              "</div>\n",
              "    <div class=\"colab-df-buttons\">\n",
              "\n",
              "  <div class=\"colab-df-container\">\n",
              "    <button class=\"colab-df-convert\" onclick=\"convertToInteractive('df-1515361c-734d-4c8b-a54e-f82012950c6d')\"\n",
              "            title=\"Convert this dataframe to an interactive table.\"\n",
              "            style=\"display:none;\">\n",
              "\n",
              "  <svg xmlns=\"http://www.w3.org/2000/svg\" height=\"24px\" viewBox=\"0 -960 960 960\">\n",
              "    <path d=\"M120-120v-720h720v720H120Zm60-500h600v-160H180v160Zm220 220h160v-160H400v160Zm0 220h160v-160H400v160ZM180-400h160v-160H180v160Zm440 0h160v-160H620v160ZM180-180h160v-160H180v160Zm440 0h160v-160H620v160Z\"/>\n",
              "  </svg>\n",
              "    </button>\n",
              "\n",
              "  <style>\n",
              "    .colab-df-container {\n",
              "      display:flex;\n",
              "      gap: 12px;\n",
              "    }\n",
              "\n",
              "    .colab-df-convert {\n",
              "      background-color: #E8F0FE;\n",
              "      border: none;\n",
              "      border-radius: 50%;\n",
              "      cursor: pointer;\n",
              "      display: none;\n",
              "      fill: #1967D2;\n",
              "      height: 32px;\n",
              "      padding: 0 0 0 0;\n",
              "      width: 32px;\n",
              "    }\n",
              "\n",
              "    .colab-df-convert:hover {\n",
              "      background-color: #E2EBFA;\n",
              "      box-shadow: 0px 1px 2px rgba(60, 64, 67, 0.3), 0px 1px 3px 1px rgba(60, 64, 67, 0.15);\n",
              "      fill: #174EA6;\n",
              "    }\n",
              "\n",
              "    .colab-df-buttons div {\n",
              "      margin-bottom: 4px;\n",
              "    }\n",
              "\n",
              "    [theme=dark] .colab-df-convert {\n",
              "      background-color: #3B4455;\n",
              "      fill: #D2E3FC;\n",
              "    }\n",
              "\n",
              "    [theme=dark] .colab-df-convert:hover {\n",
              "      background-color: #434B5C;\n",
              "      box-shadow: 0px 1px 3px 1px rgba(0, 0, 0, 0.15);\n",
              "      filter: drop-shadow(0px 1px 2px rgba(0, 0, 0, 0.3));\n",
              "      fill: #FFFFFF;\n",
              "    }\n",
              "  </style>\n",
              "\n",
              "    <script>\n",
              "      const buttonEl =\n",
              "        document.querySelector('#df-1515361c-734d-4c8b-a54e-f82012950c6d button.colab-df-convert');\n",
              "      buttonEl.style.display =\n",
              "        google.colab.kernel.accessAllowed ? 'block' : 'none';\n",
              "\n",
              "      async function convertToInteractive(key) {\n",
              "        const element = document.querySelector('#df-1515361c-734d-4c8b-a54e-f82012950c6d');\n",
              "        const dataTable =\n",
              "          await google.colab.kernel.invokeFunction('convertToInteractive',\n",
              "                                                    [key], {});\n",
              "        if (!dataTable) return;\n",
              "\n",
              "        const docLinkHtml = 'Like what you see? Visit the ' +\n",
              "          '<a target=\"_blank\" href=https://colab.research.google.com/notebooks/data_table.ipynb>data table notebook</a>'\n",
              "          + ' to learn more about interactive tables.';\n",
              "        element.innerHTML = '';\n",
              "        dataTable['output_type'] = 'display_data';\n",
              "        await google.colab.output.renderOutput(dataTable, element);\n",
              "        const docLink = document.createElement('div');\n",
              "        docLink.innerHTML = docLinkHtml;\n",
              "        element.appendChild(docLink);\n",
              "      }\n",
              "    </script>\n",
              "  </div>\n",
              "\n",
              "\n",
              "<div id=\"df-b1468c21-f34e-4782-a466-95920c7d54a4\">\n",
              "  <button class=\"colab-df-quickchart\" onclick=\"quickchart('df-b1468c21-f34e-4782-a466-95920c7d54a4')\"\n",
              "            title=\"Suggest charts\"\n",
              "            style=\"display:none;\">\n",
              "\n",
              "<svg xmlns=\"http://www.w3.org/2000/svg\" height=\"24px\"viewBox=\"0 0 24 24\"\n",
              "     width=\"24px\">\n",
              "    <g>\n",
              "        <path d=\"M19 3H5c-1.1 0-2 .9-2 2v14c0 1.1.9 2 2 2h14c1.1 0 2-.9 2-2V5c0-1.1-.9-2-2-2zM9 17H7v-7h2v7zm4 0h-2V7h2v10zm4 0h-2v-4h2v4z\"/>\n",
              "    </g>\n",
              "</svg>\n",
              "  </button>\n",
              "\n",
              "<style>\n",
              "  .colab-df-quickchart {\n",
              "      --bg-color: #E8F0FE;\n",
              "      --fill-color: #1967D2;\n",
              "      --hover-bg-color: #E2EBFA;\n",
              "      --hover-fill-color: #174EA6;\n",
              "      --disabled-fill-color: #AAA;\n",
              "      --disabled-bg-color: #DDD;\n",
              "  }\n",
              "\n",
              "  [theme=dark] .colab-df-quickchart {\n",
              "      --bg-color: #3B4455;\n",
              "      --fill-color: #D2E3FC;\n",
              "      --hover-bg-color: #434B5C;\n",
              "      --hover-fill-color: #FFFFFF;\n",
              "      --disabled-bg-color: #3B4455;\n",
              "      --disabled-fill-color: #666;\n",
              "  }\n",
              "\n",
              "  .colab-df-quickchart {\n",
              "    background-color: var(--bg-color);\n",
              "    border: none;\n",
              "    border-radius: 50%;\n",
              "    cursor: pointer;\n",
              "    display: none;\n",
              "    fill: var(--fill-color);\n",
              "    height: 32px;\n",
              "    padding: 0;\n",
              "    width: 32px;\n",
              "  }\n",
              "\n",
              "  .colab-df-quickchart:hover {\n",
              "    background-color: var(--hover-bg-color);\n",
              "    box-shadow: 0 1px 2px rgba(60, 64, 67, 0.3), 0 1px 3px 1px rgba(60, 64, 67, 0.15);\n",
              "    fill: var(--button-hover-fill-color);\n",
              "  }\n",
              "\n",
              "  .colab-df-quickchart-complete:disabled,\n",
              "  .colab-df-quickchart-complete:disabled:hover {\n",
              "    background-color: var(--disabled-bg-color);\n",
              "    fill: var(--disabled-fill-color);\n",
              "    box-shadow: none;\n",
              "  }\n",
              "\n",
              "  .colab-df-spinner {\n",
              "    border: 2px solid var(--fill-color);\n",
              "    border-color: transparent;\n",
              "    border-bottom-color: var(--fill-color);\n",
              "    animation:\n",
              "      spin 1s steps(1) infinite;\n",
              "  }\n",
              "\n",
              "  @keyframes spin {\n",
              "    0% {\n",
              "      border-color: transparent;\n",
              "      border-bottom-color: var(--fill-color);\n",
              "      border-left-color: var(--fill-color);\n",
              "    }\n",
              "    20% {\n",
              "      border-color: transparent;\n",
              "      border-left-color: var(--fill-color);\n",
              "      border-top-color: var(--fill-color);\n",
              "    }\n",
              "    30% {\n",
              "      border-color: transparent;\n",
              "      border-left-color: var(--fill-color);\n",
              "      border-top-color: var(--fill-color);\n",
              "      border-right-color: var(--fill-color);\n",
              "    }\n",
              "    40% {\n",
              "      border-color: transparent;\n",
              "      border-right-color: var(--fill-color);\n",
              "      border-top-color: var(--fill-color);\n",
              "    }\n",
              "    60% {\n",
              "      border-color: transparent;\n",
              "      border-right-color: var(--fill-color);\n",
              "    }\n",
              "    80% {\n",
              "      border-color: transparent;\n",
              "      border-right-color: var(--fill-color);\n",
              "      border-bottom-color: var(--fill-color);\n",
              "    }\n",
              "    90% {\n",
              "      border-color: transparent;\n",
              "      border-bottom-color: var(--fill-color);\n",
              "    }\n",
              "  }\n",
              "</style>\n",
              "\n",
              "  <script>\n",
              "    async function quickchart(key) {\n",
              "      const quickchartButtonEl =\n",
              "        document.querySelector('#' + key + ' button');\n",
              "      quickchartButtonEl.disabled = true;  // To prevent multiple clicks.\n",
              "      quickchartButtonEl.classList.add('colab-df-spinner');\n",
              "      try {\n",
              "        const charts = await google.colab.kernel.invokeFunction(\n",
              "            'suggestCharts', [key], {});\n",
              "      } catch (error) {\n",
              "        console.error('Error during call to suggestCharts:', error);\n",
              "      }\n",
              "      quickchartButtonEl.classList.remove('colab-df-spinner');\n",
              "      quickchartButtonEl.classList.add('colab-df-quickchart-complete');\n",
              "    }\n",
              "    (() => {\n",
              "      let quickchartButtonEl =\n",
              "        document.querySelector('#df-b1468c21-f34e-4782-a466-95920c7d54a4 button');\n",
              "      quickchartButtonEl.style.display =\n",
              "        google.colab.kernel.accessAllowed ? 'block' : 'none';\n",
              "    })();\n",
              "  </script>\n",
              "</div>\n",
              "\n",
              "    </div>\n",
              "  </div>\n"
            ],
            "application/vnd.google.colaboratory.intrinsic+json": {
              "type": "dataframe",
              "variable_name": "penguim",
              "summary": "{\n  \"name\": \"penguim\",\n  \"rows\": 344,\n  \"fields\": [\n    {\n      \"column\": \"species\",\n      \"properties\": {\n        \"dtype\": \"category\",\n        \"num_unique_values\": 3,\n        \"samples\": [\n          \"Adelie\",\n          \"Chinstrap\",\n          \"Gentoo\"\n        ],\n        \"semantic_type\": \"\",\n        \"description\": \"\"\n      }\n    },\n    {\n      \"column\": \"island\",\n      \"properties\": {\n        \"dtype\": \"category\",\n        \"num_unique_values\": 3,\n        \"samples\": [\n          \"Torgersen\",\n          \"Biscoe\",\n          \"Dream\"\n        ],\n        \"semantic_type\": \"\",\n        \"description\": \"\"\n      }\n    },\n    {\n      \"column\": \"bill_length_mm\",\n      \"properties\": {\n        \"dtype\": \"number\",\n        \"std\": 5.4595837139265315,\n        \"min\": 32.1,\n        \"max\": 59.6,\n        \"num_unique_values\": 164,\n        \"samples\": [\n          48.2,\n          49.8,\n          45.1\n        ],\n        \"semantic_type\": \"\",\n        \"description\": \"\"\n      }\n    },\n    {\n      \"column\": \"bill_depth_mm\",\n      \"properties\": {\n        \"dtype\": \"number\",\n        \"std\": 1.9747931568167816,\n        \"min\": 13.1,\n        \"max\": 21.5,\n        \"num_unique_values\": 80,\n        \"samples\": [\n          16.9,\n          18.7,\n          18.6\n        ],\n        \"semantic_type\": \"\",\n        \"description\": \"\"\n      }\n    },\n    {\n      \"column\": \"flipper_length_mm\",\n      \"properties\": {\n        \"dtype\": \"number\",\n        \"std\": 14.061713679356888,\n        \"min\": 172.0,\n        \"max\": 231.0,\n        \"num_unique_values\": 55,\n        \"samples\": [\n          201.0,\n          180.0,\n          212.0\n        ],\n        \"semantic_type\": \"\",\n        \"description\": \"\"\n      }\n    },\n    {\n      \"column\": \"body_mass_g\",\n      \"properties\": {\n        \"dtype\": \"number\",\n        \"std\": 801.9545356980956,\n        \"min\": 2700.0,\n        \"max\": 6300.0,\n        \"num_unique_values\": 94,\n        \"samples\": [\n          4350.0,\n          4150.0,\n          3525.0\n        ],\n        \"semantic_type\": \"\",\n        \"description\": \"\"\n      }\n    },\n    {\n      \"column\": \"sex\",\n      \"properties\": {\n        \"dtype\": \"category\",\n        \"num_unique_values\": 2,\n        \"samples\": [\n          \"Female\",\n          \"Male\"\n        ],\n        \"semantic_type\": \"\",\n        \"description\": \"\"\n      }\n    }\n  ]\n}"
            }
          },
          "metadata": {},
          "execution_count": 3
        }
      ]
    },
    {
      "cell_type": "markdown",
      "metadata": {
        "id": "dYTwDjt1Jnn0"
      },
      "source": [
        "### **1.1. Análise exploratória**"
      ]
    },
    {
      "cell_type": "markdown",
      "metadata": {
        "id": "QHA3Z9E9LHbK"
      },
      "source": [
        "Utilize os gráficos abaixo para entender melhor a relação entre os atributos e variável resposta da base de dados. Comente o que observou em cada gráfico."
      ]
    },
    {
      "cell_type": "markdown",
      "metadata": {
        "id": "PQWtF5piLYTl"
      },
      "source": [
        " - Atributos numéricos por espécie:"
      ]
    },
    {
      "cell_type": "code",
      "metadata": {
        "id": "Hf6ekDf1JkNN"
      },
      "source": [
        "with sns.axes_style('whitegrid'):\n",
        "\n",
        "  grafico = sns.pairplot(data=penguim.drop(['sex', 'island'], axis=1), hue=\"species\", palette=\"pastel\")"
      ],
      "execution_count": null,
      "outputs": []
    },
    {
      "cell_type": "markdown",
      "metadata": {
        "id": "UQzY1c1XLhNA"
      },
      "source": [
        "**Comentário:** ?"
      ]
    },
    {
      "cell_type": "markdown",
      "source": [
        "* Os Gentoos tendem a ter as maiores nadadeiras, menor profundidade de bicos, largura média dos bicos e maior peso.\n",
        "\n",
        "* Os Chinstraps tem largura do bico média, profundida dos bicos média, nada e nadadeiras médias e pequenas\n",
        "\n",
        "* Os Adelies tem nadadeiras um pouco maior que os Chinstrap, profundidade do bico média, porém a largura de sues bicos são as menores entre as especies comparadas.\n",
        "\n",
        "\n",
        "\n",
        "\n",
        "\n",
        "\n"
      ],
      "metadata": {
        "id": "axBSLZJ9Zh6l"
      }
    },
    {
      "cell_type": "markdown",
      "metadata": {
        "id": "yC-icRgGLc5Y"
      },
      "source": [
        " - Sexo por espécie:"
      ]
    },
    {
      "cell_type": "code",
      "metadata": {
        "id": "QqSoe19oJjS8"
      },
      "source": [
        "with sns.axes_style('whitegrid'):\n",
        "\n",
        "  grafico = sns.countplot(data=penguim, x='sex', hue=\"species\", palette=\"pastel\")"
      ],
      "execution_count": null,
      "outputs": []
    },
    {
      "cell_type": "markdown",
      "metadata": {
        "id": "svcb1xFfLrc3"
      },
      "source": [
        "**Comentário:** ?\n",
        "\n",
        "Existes uma disbruição bem homogênia ente os sexos de cada especie"
      ]
    },
    {
      "cell_type": "markdown",
      "metadata": {
        "id": "xQV5iyQwLfAl"
      },
      "source": [
        " - Ilha por espécie:"
      ]
    },
    {
      "cell_type": "code",
      "metadata": {
        "id": "z5CgljQEJOB5"
      },
      "source": [
        "with sns.axes_style('whitegrid'):\n",
        "\n",
        "  grafico = sns.countplot(data=penguim, x='island', hue=\"species\", palette=\"pastel\")"
      ],
      "execution_count": null,
      "outputs": []
    },
    {
      "cell_type": "markdown",
      "metadata": {
        "id": "NjtgybmILsrE"
      },
      "source": [
        "**Comentário:** ?"
      ]
    },
    {
      "cell_type": "markdown",
      "source": [
        "A especie Adelie se espalha entre as 3 ilhas, apesar de ela ser a unica na de Torgersen. As outras duas estão cada uma em uma ilha diferente, não interagindo ente si.\n",
        "\n",
        "Um adendo: Na ilha de Dream a Adelie tem é quase equivalente ao número de Chinstrap"
      ],
      "metadata": {
        "id": "NktCS5AvcstN"
      }
    },
    {
      "cell_type": "markdown",
      "metadata": {
        "id": "RDQqSdrWHY78"
      },
      "source": [
        "## 2\\. Dados"
      ]
    },
    {
      "cell_type": "markdown",
      "metadata": {
        "id": "HrTLgE0tki6P"
      },
      "source": [
        "### **2.1. Valores nulos**"
      ]
    },
    {
      "cell_type": "markdown",
      "metadata": {
        "id": "8JmRsG6K8SPd"
      },
      "source": [
        "A base de dados possui valores faltantes, utilize os conceitos da aula para trata-los."
      ]
    },
    {
      "cell_type": "code",
      "metadata": {
        "id": "8kyhQS748SPf"
      },
      "source": [
        "# resposta da questão 2.1\n",
        "\n",
        "data = penguim.dropna()"
      ],
      "execution_count": null,
      "outputs": []
    },
    {
      "cell_type": "markdown",
      "metadata": {
        "id": "TTh7w8rgkznY"
      },
      "source": [
        "### **2.2. Variáveis categóricas**"
      ]
    },
    {
      "cell_type": "markdown",
      "metadata": {
        "id": "clBerimQs2PY"
      },
      "source": [
        "Identifique as variáveis categóricas nominais e ordinais, crie uma nova coluna aplicando a técnica correta de conversão a seus valores. A nova coluna deve ter o mesmo nome da coluna original acrescidade de \"*_nom*\" ou \"*_ord*\"."
      ]
    },
    {
      "cell_type": "markdown",
      "metadata": {
        "id": "BqpAVY109BWA"
      },
      "source": [
        "> **Nota**: Você não deve tratar a variável resposta."
      ]
    },
    {
      "cell_type": "markdown",
      "metadata": {
        "id": "LiNknVNsrJqc"
      },
      "source": [
        "> **Nota**: Por definição, árvores de decisão **não precisam** da transformação de atributos categóricos em numéricos. Contudo, por **limitação** do pacote Python Scikit Learn, devemos conduzir esta etapa. Mais informações neste [link](https://scikit-learn.org/stable/modules/tree.html#tree)."
      ]
    },
    {
      "cell_type": "code",
      "metadata": {
        "id": "fohdVuLzkdKP",
        "colab": {
          "base_uri": "https://localhost:8080/"
        },
        "outputId": "db962e7a-d6ad-4ab1-9331-2fe8f8481ea2"
      },
      "source": [
        "# resposta da questão 2.2\n",
        "col_num = data.select_dtypes(include=[\"float64\", \"int64\"]).columns\n",
        "\n",
        "\n",
        "ilhas = set(data[\"island\"])\n",
        "\n",
        "for i in ilhas:\n",
        "  data[f\"island_{i}_nom\"] = data[\"island\"].apply(lambda isl : 1 if isl == i else 0)\n",
        "\n",
        "\n",
        "for col in col_num:\n",
        "  data[f\"{col}_std\"] = data[col].apply(lambda v: (v - data[col].mean()) / data[col].std())\n",
        "\n",
        "\n",
        "data[\"sex_female\"] = data['sex'].apply(lambda s: 1 if s == \"Female\" else 0)\n",
        "\n",
        "data[\"sex_male\"] = data['sex'].apply(lambda s: 1 if s == \"Male\" else 0)"
      ],
      "execution_count": null,
      "outputs": [
        {
          "output_type": "stream",
          "name": "stderr",
          "text": [
            "<ipython-input-15-dd07771dfb90>:8: SettingWithCopyWarning: \n",
            "A value is trying to be set on a copy of a slice from a DataFrame.\n",
            "Try using .loc[row_indexer,col_indexer] = value instead\n",
            "\n",
            "See the caveats in the documentation: https://pandas.pydata.org/pandas-docs/stable/user_guide/indexing.html#returning-a-view-versus-a-copy\n",
            "  data[f\"island_{i}_nom\"] = data[\"island\"].apply(lambda isl : 1 if isl == i else 0)\n",
            "<ipython-input-15-dd07771dfb90>:8: SettingWithCopyWarning: \n",
            "A value is trying to be set on a copy of a slice from a DataFrame.\n",
            "Try using .loc[row_indexer,col_indexer] = value instead\n",
            "\n",
            "See the caveats in the documentation: https://pandas.pydata.org/pandas-docs/stable/user_guide/indexing.html#returning-a-view-versus-a-copy\n",
            "  data[f\"island_{i}_nom\"] = data[\"island\"].apply(lambda isl : 1 if isl == i else 0)\n",
            "<ipython-input-15-dd07771dfb90>:8: SettingWithCopyWarning: \n",
            "A value is trying to be set on a copy of a slice from a DataFrame.\n",
            "Try using .loc[row_indexer,col_indexer] = value instead\n",
            "\n",
            "See the caveats in the documentation: https://pandas.pydata.org/pandas-docs/stable/user_guide/indexing.html#returning-a-view-versus-a-copy\n",
            "  data[f\"island_{i}_nom\"] = data[\"island\"].apply(lambda isl : 1 if isl == i else 0)\n",
            "<ipython-input-15-dd07771dfb90>:12: SettingWithCopyWarning: \n",
            "A value is trying to be set on a copy of a slice from a DataFrame.\n",
            "Try using .loc[row_indexer,col_indexer] = value instead\n",
            "\n",
            "See the caveats in the documentation: https://pandas.pydata.org/pandas-docs/stable/user_guide/indexing.html#returning-a-view-versus-a-copy\n",
            "  data[f\"{col}_std\"] = data[col].apply(lambda v: (v - data[col].mean()) / data[col].std())\n",
            "<ipython-input-15-dd07771dfb90>:12: SettingWithCopyWarning: \n",
            "A value is trying to be set on a copy of a slice from a DataFrame.\n",
            "Try using .loc[row_indexer,col_indexer] = value instead\n",
            "\n",
            "See the caveats in the documentation: https://pandas.pydata.org/pandas-docs/stable/user_guide/indexing.html#returning-a-view-versus-a-copy\n",
            "  data[f\"{col}_std\"] = data[col].apply(lambda v: (v - data[col].mean()) / data[col].std())\n",
            "<ipython-input-15-dd07771dfb90>:12: SettingWithCopyWarning: \n",
            "A value is trying to be set on a copy of a slice from a DataFrame.\n",
            "Try using .loc[row_indexer,col_indexer] = value instead\n",
            "\n",
            "See the caveats in the documentation: https://pandas.pydata.org/pandas-docs/stable/user_guide/indexing.html#returning-a-view-versus-a-copy\n",
            "  data[f\"{col}_std\"] = data[col].apply(lambda v: (v - data[col].mean()) / data[col].std())\n",
            "<ipython-input-15-dd07771dfb90>:12: SettingWithCopyWarning: \n",
            "A value is trying to be set on a copy of a slice from a DataFrame.\n",
            "Try using .loc[row_indexer,col_indexer] = value instead\n",
            "\n",
            "See the caveats in the documentation: https://pandas.pydata.org/pandas-docs/stable/user_guide/indexing.html#returning-a-view-versus-a-copy\n",
            "  data[f\"{col}_std\"] = data[col].apply(lambda v: (v - data[col].mean()) / data[col].std())\n",
            "<ipython-input-15-dd07771dfb90>:15: SettingWithCopyWarning: \n",
            "A value is trying to be set on a copy of a slice from a DataFrame.\n",
            "Try using .loc[row_indexer,col_indexer] = value instead\n",
            "\n",
            "See the caveats in the documentation: https://pandas.pydata.org/pandas-docs/stable/user_guide/indexing.html#returning-a-view-versus-a-copy\n",
            "  data[\"sex_female\"] = data['sex'].apply(lambda s: 1 if s == \"Female\" else 0)\n",
            "<ipython-input-15-dd07771dfb90>:17: SettingWithCopyWarning: \n",
            "A value is trying to be set on a copy of a slice from a DataFrame.\n",
            "Try using .loc[row_indexer,col_indexer] = value instead\n",
            "\n",
            "See the caveats in the documentation: https://pandas.pydata.org/pandas-docs/stable/user_guide/indexing.html#returning-a-view-versus-a-copy\n",
            "  data[\"sex_male\"] = data['sex'].apply(lambda s: 1 if s == \"Male\" else 0)\n"
          ]
        }
      ]
    },
    {
      "cell_type": "code",
      "source": [
        "data.head()"
      ],
      "metadata": {
        "colab": {
          "base_uri": "https://localhost:8080/",
          "height": 226
        },
        "id": "FelC_iBzB3aI",
        "outputId": "d88c2a70-0ee1-46e7-b90f-48ff49814d15"
      },
      "execution_count": null,
      "outputs": [
        {
          "output_type": "execute_result",
          "data": {
            "text/plain": [
              "  species     island  bill_length_mm  bill_depth_mm  flipper_length_mm  \\\n",
              "0  Adelie  Torgersen            39.1           18.7              181.0   \n",
              "1  Adelie  Torgersen            39.5           17.4              186.0   \n",
              "2  Adelie  Torgersen            40.3           18.0              195.0   \n",
              "4  Adelie  Torgersen            36.7           19.3              193.0   \n",
              "5  Adelie  Torgersen            39.3           20.6              190.0   \n",
              "\n",
              "   body_mass_g     sex  island_Dream_nom  island_Torgersen_nom  \\\n",
              "0       3750.0    Male                 0                     1   \n",
              "1       3800.0  Female                 0                     1   \n",
              "2       3250.0  Female                 0                     1   \n",
              "4       3450.0  Female                 0                     1   \n",
              "5       3650.0    Male                 0                     1   \n",
              "\n",
              "   island_Biscoe_nom  bill_length_mm_std  bill_depth_mm_std  \\\n",
              "0                  0           -0.894695           0.779559   \n",
              "1                  0           -0.821552           0.119404   \n",
              "2                  0           -0.675264           0.424091   \n",
              "4                  0           -1.333559           1.084246   \n",
              "5                  0           -0.858123           1.744400   \n",
              "\n",
              "   flipper_length_mm_std  body_mass_g_std  sex_female  sex_male  \n",
              "0              -1.424608        -0.567621           0         1  \n",
              "1              -1.067867        -0.505525           1         0  \n",
              "2              -0.425733        -1.188572           1         0  \n",
              "4              -0.568429        -0.940192           1         0  \n",
              "5              -0.782474        -0.691811           0         1  "
            ],
            "text/html": [
              "\n",
              "  <div id=\"df-56e1b0c7-daa6-44d3-82d0-2d3e08038fbd\" class=\"colab-df-container\">\n",
              "    <div>\n",
              "<style scoped>\n",
              "    .dataframe tbody tr th:only-of-type {\n",
              "        vertical-align: middle;\n",
              "    }\n",
              "\n",
              "    .dataframe tbody tr th {\n",
              "        vertical-align: top;\n",
              "    }\n",
              "\n",
              "    .dataframe thead th {\n",
              "        text-align: right;\n",
              "    }\n",
              "</style>\n",
              "<table border=\"1\" class=\"dataframe\">\n",
              "  <thead>\n",
              "    <tr style=\"text-align: right;\">\n",
              "      <th></th>\n",
              "      <th>species</th>\n",
              "      <th>island</th>\n",
              "      <th>bill_length_mm</th>\n",
              "      <th>bill_depth_mm</th>\n",
              "      <th>flipper_length_mm</th>\n",
              "      <th>body_mass_g</th>\n",
              "      <th>sex</th>\n",
              "      <th>island_Dream_nom</th>\n",
              "      <th>island_Torgersen_nom</th>\n",
              "      <th>island_Biscoe_nom</th>\n",
              "      <th>bill_length_mm_std</th>\n",
              "      <th>bill_depth_mm_std</th>\n",
              "      <th>flipper_length_mm_std</th>\n",
              "      <th>body_mass_g_std</th>\n",
              "      <th>sex_female</th>\n",
              "      <th>sex_male</th>\n",
              "    </tr>\n",
              "  </thead>\n",
              "  <tbody>\n",
              "    <tr>\n",
              "      <th>0</th>\n",
              "      <td>Adelie</td>\n",
              "      <td>Torgersen</td>\n",
              "      <td>39.1</td>\n",
              "      <td>18.7</td>\n",
              "      <td>181.0</td>\n",
              "      <td>3750.0</td>\n",
              "      <td>Male</td>\n",
              "      <td>0</td>\n",
              "      <td>1</td>\n",
              "      <td>0</td>\n",
              "      <td>-0.894695</td>\n",
              "      <td>0.779559</td>\n",
              "      <td>-1.424608</td>\n",
              "      <td>-0.567621</td>\n",
              "      <td>0</td>\n",
              "      <td>1</td>\n",
              "    </tr>\n",
              "    <tr>\n",
              "      <th>1</th>\n",
              "      <td>Adelie</td>\n",
              "      <td>Torgersen</td>\n",
              "      <td>39.5</td>\n",
              "      <td>17.4</td>\n",
              "      <td>186.0</td>\n",
              "      <td>3800.0</td>\n",
              "      <td>Female</td>\n",
              "      <td>0</td>\n",
              "      <td>1</td>\n",
              "      <td>0</td>\n",
              "      <td>-0.821552</td>\n",
              "      <td>0.119404</td>\n",
              "      <td>-1.067867</td>\n",
              "      <td>-0.505525</td>\n",
              "      <td>1</td>\n",
              "      <td>0</td>\n",
              "    </tr>\n",
              "    <tr>\n",
              "      <th>2</th>\n",
              "      <td>Adelie</td>\n",
              "      <td>Torgersen</td>\n",
              "      <td>40.3</td>\n",
              "      <td>18.0</td>\n",
              "      <td>195.0</td>\n",
              "      <td>3250.0</td>\n",
              "      <td>Female</td>\n",
              "      <td>0</td>\n",
              "      <td>1</td>\n",
              "      <td>0</td>\n",
              "      <td>-0.675264</td>\n",
              "      <td>0.424091</td>\n",
              "      <td>-0.425733</td>\n",
              "      <td>-1.188572</td>\n",
              "      <td>1</td>\n",
              "      <td>0</td>\n",
              "    </tr>\n",
              "    <tr>\n",
              "      <th>4</th>\n",
              "      <td>Adelie</td>\n",
              "      <td>Torgersen</td>\n",
              "      <td>36.7</td>\n",
              "      <td>19.3</td>\n",
              "      <td>193.0</td>\n",
              "      <td>3450.0</td>\n",
              "      <td>Female</td>\n",
              "      <td>0</td>\n",
              "      <td>1</td>\n",
              "      <td>0</td>\n",
              "      <td>-1.333559</td>\n",
              "      <td>1.084246</td>\n",
              "      <td>-0.568429</td>\n",
              "      <td>-0.940192</td>\n",
              "      <td>1</td>\n",
              "      <td>0</td>\n",
              "    </tr>\n",
              "    <tr>\n",
              "      <th>5</th>\n",
              "      <td>Adelie</td>\n",
              "      <td>Torgersen</td>\n",
              "      <td>39.3</td>\n",
              "      <td>20.6</td>\n",
              "      <td>190.0</td>\n",
              "      <td>3650.0</td>\n",
              "      <td>Male</td>\n",
              "      <td>0</td>\n",
              "      <td>1</td>\n",
              "      <td>0</td>\n",
              "      <td>-0.858123</td>\n",
              "      <td>1.744400</td>\n",
              "      <td>-0.782474</td>\n",
              "      <td>-0.691811</td>\n",
              "      <td>0</td>\n",
              "      <td>1</td>\n",
              "    </tr>\n",
              "  </tbody>\n",
              "</table>\n",
              "</div>\n",
              "    <div class=\"colab-df-buttons\">\n",
              "\n",
              "  <div class=\"colab-df-container\">\n",
              "    <button class=\"colab-df-convert\" onclick=\"convertToInteractive('df-56e1b0c7-daa6-44d3-82d0-2d3e08038fbd')\"\n",
              "            title=\"Convert this dataframe to an interactive table.\"\n",
              "            style=\"display:none;\">\n",
              "\n",
              "  <svg xmlns=\"http://www.w3.org/2000/svg\" height=\"24px\" viewBox=\"0 -960 960 960\">\n",
              "    <path d=\"M120-120v-720h720v720H120Zm60-500h600v-160H180v160Zm220 220h160v-160H400v160Zm0 220h160v-160H400v160ZM180-400h160v-160H180v160Zm440 0h160v-160H620v160ZM180-180h160v-160H180v160Zm440 0h160v-160H620v160Z\"/>\n",
              "  </svg>\n",
              "    </button>\n",
              "\n",
              "  <style>\n",
              "    .colab-df-container {\n",
              "      display:flex;\n",
              "      gap: 12px;\n",
              "    }\n",
              "\n",
              "    .colab-df-convert {\n",
              "      background-color: #E8F0FE;\n",
              "      border: none;\n",
              "      border-radius: 50%;\n",
              "      cursor: pointer;\n",
              "      display: none;\n",
              "      fill: #1967D2;\n",
              "      height: 32px;\n",
              "      padding: 0 0 0 0;\n",
              "      width: 32px;\n",
              "    }\n",
              "\n",
              "    .colab-df-convert:hover {\n",
              "      background-color: #E2EBFA;\n",
              "      box-shadow: 0px 1px 2px rgba(60, 64, 67, 0.3), 0px 1px 3px 1px rgba(60, 64, 67, 0.15);\n",
              "      fill: #174EA6;\n",
              "    }\n",
              "\n",
              "    .colab-df-buttons div {\n",
              "      margin-bottom: 4px;\n",
              "    }\n",
              "\n",
              "    [theme=dark] .colab-df-convert {\n",
              "      background-color: #3B4455;\n",
              "      fill: #D2E3FC;\n",
              "    }\n",
              "\n",
              "    [theme=dark] .colab-df-convert:hover {\n",
              "      background-color: #434B5C;\n",
              "      box-shadow: 0px 1px 3px 1px rgba(0, 0, 0, 0.15);\n",
              "      filter: drop-shadow(0px 1px 2px rgba(0, 0, 0, 0.3));\n",
              "      fill: #FFFFFF;\n",
              "    }\n",
              "  </style>\n",
              "\n",
              "    <script>\n",
              "      const buttonEl =\n",
              "        document.querySelector('#df-56e1b0c7-daa6-44d3-82d0-2d3e08038fbd button.colab-df-convert');\n",
              "      buttonEl.style.display =\n",
              "        google.colab.kernel.accessAllowed ? 'block' : 'none';\n",
              "\n",
              "      async function convertToInteractive(key) {\n",
              "        const element = document.querySelector('#df-56e1b0c7-daa6-44d3-82d0-2d3e08038fbd');\n",
              "        const dataTable =\n",
              "          await google.colab.kernel.invokeFunction('convertToInteractive',\n",
              "                                                    [key], {});\n",
              "        if (!dataTable) return;\n",
              "\n",
              "        const docLinkHtml = 'Like what you see? Visit the ' +\n",
              "          '<a target=\"_blank\" href=https://colab.research.google.com/notebooks/data_table.ipynb>data table notebook</a>'\n",
              "          + ' to learn more about interactive tables.';\n",
              "        element.innerHTML = '';\n",
              "        dataTable['output_type'] = 'display_data';\n",
              "        await google.colab.output.renderOutput(dataTable, element);\n",
              "        const docLink = document.createElement('div');\n",
              "        docLink.innerHTML = docLinkHtml;\n",
              "        element.appendChild(docLink);\n",
              "      }\n",
              "    </script>\n",
              "  </div>\n",
              "\n",
              "\n",
              "<div id=\"df-664ebd67-a708-4eff-a43c-05584598c68d\">\n",
              "  <button class=\"colab-df-quickchart\" onclick=\"quickchart('df-664ebd67-a708-4eff-a43c-05584598c68d')\"\n",
              "            title=\"Suggest charts\"\n",
              "            style=\"display:none;\">\n",
              "\n",
              "<svg xmlns=\"http://www.w3.org/2000/svg\" height=\"24px\"viewBox=\"0 0 24 24\"\n",
              "     width=\"24px\">\n",
              "    <g>\n",
              "        <path d=\"M19 3H5c-1.1 0-2 .9-2 2v14c0 1.1.9 2 2 2h14c1.1 0 2-.9 2-2V5c0-1.1-.9-2-2-2zM9 17H7v-7h2v7zm4 0h-2V7h2v10zm4 0h-2v-4h2v4z\"/>\n",
              "    </g>\n",
              "</svg>\n",
              "  </button>\n",
              "\n",
              "<style>\n",
              "  .colab-df-quickchart {\n",
              "      --bg-color: #E8F0FE;\n",
              "      --fill-color: #1967D2;\n",
              "      --hover-bg-color: #E2EBFA;\n",
              "      --hover-fill-color: #174EA6;\n",
              "      --disabled-fill-color: #AAA;\n",
              "      --disabled-bg-color: #DDD;\n",
              "  }\n",
              "\n",
              "  [theme=dark] .colab-df-quickchart {\n",
              "      --bg-color: #3B4455;\n",
              "      --fill-color: #D2E3FC;\n",
              "      --hover-bg-color: #434B5C;\n",
              "      --hover-fill-color: #FFFFFF;\n",
              "      --disabled-bg-color: #3B4455;\n",
              "      --disabled-fill-color: #666;\n",
              "  }\n",
              "\n",
              "  .colab-df-quickchart {\n",
              "    background-color: var(--bg-color);\n",
              "    border: none;\n",
              "    border-radius: 50%;\n",
              "    cursor: pointer;\n",
              "    display: none;\n",
              "    fill: var(--fill-color);\n",
              "    height: 32px;\n",
              "    padding: 0;\n",
              "    width: 32px;\n",
              "  }\n",
              "\n",
              "  .colab-df-quickchart:hover {\n",
              "    background-color: var(--hover-bg-color);\n",
              "    box-shadow: 0 1px 2px rgba(60, 64, 67, 0.3), 0 1px 3px 1px rgba(60, 64, 67, 0.15);\n",
              "    fill: var(--button-hover-fill-color);\n",
              "  }\n",
              "\n",
              "  .colab-df-quickchart-complete:disabled,\n",
              "  .colab-df-quickchart-complete:disabled:hover {\n",
              "    background-color: var(--disabled-bg-color);\n",
              "    fill: var(--disabled-fill-color);\n",
              "    box-shadow: none;\n",
              "  }\n",
              "\n",
              "  .colab-df-spinner {\n",
              "    border: 2px solid var(--fill-color);\n",
              "    border-color: transparent;\n",
              "    border-bottom-color: var(--fill-color);\n",
              "    animation:\n",
              "      spin 1s steps(1) infinite;\n",
              "  }\n",
              "\n",
              "  @keyframes spin {\n",
              "    0% {\n",
              "      border-color: transparent;\n",
              "      border-bottom-color: var(--fill-color);\n",
              "      border-left-color: var(--fill-color);\n",
              "    }\n",
              "    20% {\n",
              "      border-color: transparent;\n",
              "      border-left-color: var(--fill-color);\n",
              "      border-top-color: var(--fill-color);\n",
              "    }\n",
              "    30% {\n",
              "      border-color: transparent;\n",
              "      border-left-color: var(--fill-color);\n",
              "      border-top-color: var(--fill-color);\n",
              "      border-right-color: var(--fill-color);\n",
              "    }\n",
              "    40% {\n",
              "      border-color: transparent;\n",
              "      border-right-color: var(--fill-color);\n",
              "      border-top-color: var(--fill-color);\n",
              "    }\n",
              "    60% {\n",
              "      border-color: transparent;\n",
              "      border-right-color: var(--fill-color);\n",
              "    }\n",
              "    80% {\n",
              "      border-color: transparent;\n",
              "      border-right-color: var(--fill-color);\n",
              "      border-bottom-color: var(--fill-color);\n",
              "    }\n",
              "    90% {\n",
              "      border-color: transparent;\n",
              "      border-bottom-color: var(--fill-color);\n",
              "    }\n",
              "  }\n",
              "</style>\n",
              "\n",
              "  <script>\n",
              "    async function quickchart(key) {\n",
              "      const quickchartButtonEl =\n",
              "        document.querySelector('#' + key + ' button');\n",
              "      quickchartButtonEl.disabled = true;  // To prevent multiple clicks.\n",
              "      quickchartButtonEl.classList.add('colab-df-spinner');\n",
              "      try {\n",
              "        const charts = await google.colab.kernel.invokeFunction(\n",
              "            'suggestCharts', [key], {});\n",
              "      } catch (error) {\n",
              "        console.error('Error during call to suggestCharts:', error);\n",
              "      }\n",
              "      quickchartButtonEl.classList.remove('colab-df-spinner');\n",
              "      quickchartButtonEl.classList.add('colab-df-quickchart-complete');\n",
              "    }\n",
              "    (() => {\n",
              "      let quickchartButtonEl =\n",
              "        document.querySelector('#df-664ebd67-a708-4eff-a43c-05584598c68d button');\n",
              "      quickchartButtonEl.style.display =\n",
              "        google.colab.kernel.accessAllowed ? 'block' : 'none';\n",
              "    })();\n",
              "  </script>\n",
              "</div>\n",
              "\n",
              "    </div>\n",
              "  </div>\n"
            ],
            "application/vnd.google.colaboratory.intrinsic+json": {
              "type": "dataframe",
              "variable_name": "data",
              "summary": "{\n  \"name\": \"data\",\n  \"rows\": 333,\n  \"fields\": [\n    {\n      \"column\": \"species\",\n      \"properties\": {\n        \"dtype\": \"category\",\n        \"num_unique_values\": 3,\n        \"samples\": [\n          \"Adelie\",\n          \"Chinstrap\",\n          \"Gentoo\"\n        ],\n        \"semantic_type\": \"\",\n        \"description\": \"\"\n      }\n    },\n    {\n      \"column\": \"island\",\n      \"properties\": {\n        \"dtype\": \"category\",\n        \"num_unique_values\": 3,\n        \"samples\": [\n          \"Torgersen\",\n          \"Biscoe\",\n          \"Dream\"\n        ],\n        \"semantic_type\": \"\",\n        \"description\": \"\"\n      }\n    },\n    {\n      \"column\": \"bill_length_mm\",\n      \"properties\": {\n        \"dtype\": \"number\",\n        \"std\": 5.468668342647559,\n        \"min\": 32.1,\n        \"max\": 59.6,\n        \"num_unique_values\": 163,\n        \"samples\": [\n          59.6,\n          48.1,\n          46.3\n        ],\n        \"semantic_type\": \"\",\n        \"description\": \"\"\n      }\n    },\n    {\n      \"column\": \"bill_depth_mm\",\n      \"properties\": {\n        \"dtype\": \"number\",\n        \"std\": 1.9692354633199007,\n        \"min\": 13.1,\n        \"max\": 21.5,\n        \"num_unique_values\": 79,\n        \"samples\": [\n          19.5,\n          18.7,\n          17.0\n        ],\n        \"semantic_type\": \"\",\n        \"description\": \"\"\n      }\n    },\n    {\n      \"column\": \"flipper_length_mm\",\n      \"properties\": {\n        \"dtype\": \"number\",\n        \"std\": 14.015765288287879,\n        \"min\": 172.0,\n        \"max\": 231.0,\n        \"num_unique_values\": 54,\n        \"samples\": [\n          188.0,\n          231.0,\n          224.0\n        ],\n        \"semantic_type\": \"\",\n        \"description\": \"\"\n      }\n    },\n    {\n      \"column\": \"body_mass_g\",\n      \"properties\": {\n        \"dtype\": \"number\",\n        \"std\": 805.2158019428965,\n        \"min\": 2700.0,\n        \"max\": 6300.0,\n        \"num_unique_values\": 93,\n        \"samples\": [\n          4725.0,\n          3100.0,\n          3575.0\n        ],\n        \"semantic_type\": \"\",\n        \"description\": \"\"\n      }\n    },\n    {\n      \"column\": \"sex\",\n      \"properties\": {\n        \"dtype\": \"category\",\n        \"num_unique_values\": 2,\n        \"samples\": [\n          \"Female\",\n          \"Male\"\n        ],\n        \"semantic_type\": \"\",\n        \"description\": \"\"\n      }\n    },\n    {\n      \"column\": \"island_Dream_nom\",\n      \"properties\": {\n        \"dtype\": \"number\",\n        \"std\": 0,\n        \"min\": 0,\n        \"max\": 1,\n        \"num_unique_values\": 2,\n        \"samples\": [\n          1,\n          0\n        ],\n        \"semantic_type\": \"\",\n        \"description\": \"\"\n      }\n    },\n    {\n      \"column\": \"island_Torgersen_nom\",\n      \"properties\": {\n        \"dtype\": \"number\",\n        \"std\": 0,\n        \"min\": 0,\n        \"max\": 1,\n        \"num_unique_values\": 2,\n        \"samples\": [\n          0,\n          1\n        ],\n        \"semantic_type\": \"\",\n        \"description\": \"\"\n      }\n    },\n    {\n      \"column\": \"island_Biscoe_nom\",\n      \"properties\": {\n        \"dtype\": \"number\",\n        \"std\": 0,\n        \"min\": 0,\n        \"max\": 1,\n        \"num_unique_values\": 2,\n        \"samples\": [\n          1,\n          0\n        ],\n        \"semantic_type\": \"\",\n        \"description\": \"\"\n      }\n    },\n    {\n      \"column\": \"bill_length_mm_std\",\n      \"properties\": {\n        \"dtype\": \"number\",\n        \"std\": 1.0,\n        \"min\": -2.174714582715964,\n        \"max\": 2.853931931745427,\n        \"num_unique_values\": 163,\n        \"samples\": [\n          2.853931931745427,\n          0.7510433893342997\n        ],\n        \"semantic_type\": \"\",\n        \"description\": \"\"\n      }\n    },\n    {\n      \"column\": \"bill_depth_mm_std\",\n      \"properties\": {\n        \"dtype\": \"number\",\n        \"std\": 0.9999999999999998,\n        \"min\": -2.0641842687577734,\n        \"max\": 2.2014305632230515,\n        \"num_unique_values\": 79,\n        \"samples\": [\n          1.1858079841799982,\n          0.7795589525627764\n        ],\n        \"semantic_type\": \"\",\n        \"description\": \"\"\n      }\n    },\n    {\n      \"column\": \"flipper_length_mm_std\",\n      \"properties\": {\n        \"dtype\": \"number\",\n        \"std\": 1.0,\n        \"min\": -2.066741727700941,\n        \"max\": 2.1428036511234825,\n        \"num_unique_values\": 54,\n        \"samples\": [\n          -0.9251700995451649,\n          2.1428036511234825\n        ],\n        \"semantic_type\": \"\",\n        \"description\": \"\"\n      }\n    },\n    {\n      \"column\": \"body_mass_g_std\",\n      \"properties\": {\n        \"dtype\": \"number\",\n        \"std\": 1.0,\n        \"min\": -1.8716188299095664,\n        \"max\": 2.599232327399566,\n        \"num_unique_values\": 93,\n        \"samples\": [\n          0.6432349460768205,\n          -1.3748575902085516\n        ],\n        \"semantic_type\": \"\",\n        \"description\": \"\"\n      }\n    },\n    {\n      \"column\": \"sex_female\",\n      \"properties\": {\n        \"dtype\": \"number\",\n        \"std\": 0,\n        \"min\": 0,\n        \"max\": 1,\n        \"num_unique_values\": 2,\n        \"samples\": [\n          1,\n          0\n        ],\n        \"semantic_type\": \"\",\n        \"description\": \"\"\n      }\n    },\n    {\n      \"column\": \"sex_male\",\n      \"properties\": {\n        \"dtype\": \"number\",\n        \"std\": 0,\n        \"min\": 0,\n        \"max\": 1,\n        \"num_unique_values\": 2,\n        \"samples\": [\n          0,\n          1\n        ],\n        \"semantic_type\": \"\",\n        \"description\": \"\"\n      }\n    }\n  ]\n}"
            }
          },
          "metadata": {},
          "execution_count": 35
        }
      ]
    },
    {
      "cell_type": "markdown",
      "metadata": {
        "id": "AvkcQD9E9DGE"
      },
      "source": [
        "### **2.3. Limpeza**"
      ]
    },
    {
      "cell_type": "markdown",
      "metadata": {
        "id": "D03kCy8-9DGE"
      },
      "source": [
        "Descarte as colunas categóricas originais e mantenha a variável resposta na primeira coluna do dataframe."
      ]
    },
    {
      "cell_type": "code",
      "metadata": {
        "id": "TuEOO6009DGE"
      },
      "source": [
        "# resposta da questão 2.3\n",
        "\n",
        "data = data[[\"species\", \"island_Dream_nom\",\t\"island_Torgersen_nom\",\t\"island_Biscoe_nom\",\t\"bill_length_mm_std\",\t\"bill_depth_mm_std\",\t\"flipper_length_mm_std\",\t\"body_mass_g_std\",\t\"sex_female\",\t\"sex_male\"]]"
      ],
      "execution_count": null,
      "outputs": []
    },
    {
      "cell_type": "markdown",
      "metadata": {
        "id": "p42G0OvRMFVq"
      },
      "source": [
        "### **2.4. Treino/Teste**"
      ]
    },
    {
      "cell_type": "markdown",
      "metadata": {
        "id": "WHyuv-4cMFVr"
      },
      "source": [
        "Separe a base de dados em treino e teste utilizando uma proporção de 2/3 para treino e 1/3 para testes."
      ]
    },
    {
      "cell_type": "code",
      "metadata": {
        "id": "8Rbj-tBMMFVr"
      },
      "source": [
        "# resposta da questão 2.4\n",
        "\n",
        "from sklearn.model_selection import train_test_split\n",
        "\n",
        "\n",
        "\n",
        "\n",
        "\n",
        "predictors_train, predictors_test, target_train, target_test = train_test_split(\n",
        "    data.drop(['species'], axis= 1),\n",
        "    data['species'],\n",
        "    test_size = 0.25,\n",
        "    random_state = 123\n",
        ")"
      ],
      "execution_count": null,
      "outputs": []
    },
    {
      "cell_type": "markdown",
      "metadata": {
        "id": "yBRWrgn1L8dR"
      },
      "source": [
        "## 3\\. Modelagem"
      ]
    },
    {
      "cell_type": "markdown",
      "metadata": {
        "id": "mJMHdFTQL2LS"
      },
      "source": [
        "### **3.1. Treino**"
      ]
    },
    {
      "cell_type": "markdown",
      "metadata": {
        "id": "3la9bf31L2LT"
      },
      "source": [
        "Treine um modelo de **árvore de decisão** com os **dados de treino** (2/3). Gere o gráfico da árvore do modelo treinado e responda: quantas **folhas** a árvore treinada possui?"
      ]
    },
    {
      "cell_type": "markdown",
      "metadata": {
        "id": "85yPJLcns7wb"
      },
      "source": [
        "**Resposta:** ?"
      ]
    },
    {
      "cell_type": "code",
      "metadata": {
        "id": "gXVuVyJzL2LU"
      },
      "source": [
        "# resposta da questão 3.1\n",
        "\n",
        "from sklearn.tree import DecisionTreeClassifier\n",
        "model = DecisionTreeClassifier()\n",
        "\n",
        "model = model.fit(predictors_train, target_train)"
      ],
      "execution_count": null,
      "outputs": []
    },
    {
      "cell_type": "markdown",
      "metadata": {
        "id": "KysDfb74Mav_"
      },
      "source": [
        "### **3.2. Avaliação**"
      ]
    },
    {
      "cell_type": "markdown",
      "metadata": {
        "id": "FSTkBBhKlMq-"
      },
      "source": [
        "**a.** Matriz de Confusão"
      ]
    },
    {
      "cell_type": "markdown",
      "metadata": {
        "id": "zTp4Fb8Gk9Er"
      },
      "source": [
        "Calcule e visualize a **matriz de confusão** para o modelo de **árvore de decisão** treinado com os **dados de teste** (1/3). Comente os resultados."
      ]
    },
    {
      "cell_type": "markdown",
      "metadata": {
        "id": "lgOP2svcsvB-"
      },
      "source": [
        "**Comentário:** ?"
      ]
    },
    {
      "cell_type": "code",
      "metadata": {
        "id": "YJFka6z7lUBk",
        "colab": {
          "base_uri": "https://localhost:8080/",
          "height": 677
        },
        "outputId": "ab189484-a323-44df-a45b-66fc784ce834"
      },
      "source": [
        "# resposta da questão 3.2.a\n",
        "\n",
        "import graphviz\n",
        "from sklearn import tree\n",
        "\n",
        "tree_data = tree.export_graphviz(model, out_file=None)\n",
        "graph = graphviz.Source(tree_data)\n",
        "graph"
      ],
      "execution_count": null,
      "outputs": [
        {
          "output_type": "execute_result",
          "data": {
            "image/svg+xml": "<?xml version=\"1.0\" encoding=\"UTF-8\" standalone=\"no\"?>\n<!DOCTYPE svg PUBLIC \"-//W3C//DTD SVG 1.1//EN\"\n \"http://www.w3.org/Graphics/SVG/1.1/DTD/svg11.dtd\">\n<!-- Generated by graphviz version 2.43.0 (0)\n -->\n<!-- Title: Tree Pages: 1 -->\n<svg width=\"842pt\" height=\"477pt\"\n viewBox=\"0.00 0.00 841.50 477.00\" xmlns=\"http://www.w3.org/2000/svg\" xmlns:xlink=\"http://www.w3.org/1999/xlink\">\n<g id=\"graph0\" class=\"graph\" transform=\"scale(1 1) rotate(0) translate(4 473)\">\n<title>Tree</title>\n<polygon fill=\"white\" stroke=\"transparent\" points=\"-4,4 -4,-473 837.5,-473 837.5,4 -4,4\"/>\n<!-- 0 -->\n<g id=\"node1\" class=\"node\">\n<title>0</title>\n<polygon fill=\"none\" stroke=\"black\" points=\"632,-469 492,-469 492,-401 632,-401 632,-469\"/>\n<text text-anchor=\"middle\" x=\"562\" y=\"-453.8\" font-family=\"Helvetica,sans-Serif\" font-size=\"14.00\">x[5] &lt;= 0.359</text>\n<text text-anchor=\"middle\" x=\"562\" y=\"-438.8\" font-family=\"Helvetica,sans-Serif\" font-size=\"14.00\">gini = 0.624</text>\n<text text-anchor=\"middle\" x=\"562\" y=\"-423.8\" font-family=\"Helvetica,sans-Serif\" font-size=\"14.00\">samples = 249</text>\n<text text-anchor=\"middle\" x=\"562\" y=\"-408.8\" font-family=\"Helvetica,sans-Serif\" font-size=\"14.00\">value = [111, 42, 96]</text>\n</g>\n<!-- 1 -->\n<g id=\"node2\" class=\"node\">\n<title>1</title>\n<polygon fill=\"none\" stroke=\"black\" points=\"517,-365 351,-365 351,-297 517,-297 517,-365\"/>\n<text text-anchor=\"middle\" x=\"434\" y=\"-349.8\" font-family=\"Helvetica,sans-Serif\" font-size=\"14.00\">x[3] &lt;= 0.12</text>\n<text text-anchor=\"middle\" x=\"434\" y=\"-334.8\" font-family=\"Helvetica,sans-Serif\" font-size=\"14.00\">gini = 0.396</text>\n<text text-anchor=\"middle\" x=\"434\" y=\"-319.8\" font-family=\"Helvetica,sans-Serif\" font-size=\"14.00\">samples = 149</text>\n<text text-anchor=\"middle\" x=\"434\" y=\"-304.8\" font-family=\"Helvetica,sans-Serif\" font-size=\"14.00\">value = [109.0, 39.0, 1.0]</text>\n</g>\n<!-- 0&#45;&gt;1 -->\n<g id=\"edge1\" class=\"edge\">\n<title>0&#45;&gt;1</title>\n<path fill=\"none\" stroke=\"black\" d=\"M520.44,-400.88C508.71,-391.53 495.82,-381.26 483.65,-371.57\"/>\n<polygon fill=\"black\" stroke=\"black\" points=\"485.79,-368.79 475.79,-365.3 481.43,-374.27 485.79,-368.79\"/>\n<text text-anchor=\"middle\" x=\"478.6\" y=\"-386.44\" font-family=\"Helvetica,sans-Serif\" font-size=\"14.00\">True</text>\n</g>\n<!-- 12 -->\n<g id=\"node13\" class=\"node\">\n<title>12</title>\n<polygon fill=\"none\" stroke=\"black\" points=\"701.5,-365 584.5,-365 584.5,-297 701.5,-297 701.5,-365\"/>\n<text text-anchor=\"middle\" x=\"643\" y=\"-349.8\" font-family=\"Helvetica,sans-Serif\" font-size=\"14.00\">x[2] &lt;= 0.5</text>\n<text text-anchor=\"middle\" x=\"643\" y=\"-334.8\" font-family=\"Helvetica,sans-Serif\" font-size=\"14.00\">gini = 0.096</text>\n<text text-anchor=\"middle\" x=\"643\" y=\"-319.8\" font-family=\"Helvetica,sans-Serif\" font-size=\"14.00\">samples = 100</text>\n<text text-anchor=\"middle\" x=\"643\" y=\"-304.8\" font-family=\"Helvetica,sans-Serif\" font-size=\"14.00\">value = [2, 3, 95]</text>\n</g>\n<!-- 0&#45;&gt;12 -->\n<g id=\"edge12\" class=\"edge\">\n<title>0&#45;&gt;12</title>\n<path fill=\"none\" stroke=\"black\" d=\"M588.3,-400.88C595.3,-392.07 602.95,-382.43 610.25,-373.24\"/>\n<polygon fill=\"black\" stroke=\"black\" points=\"613.08,-375.31 616.56,-365.3 607.6,-370.95 613.08,-375.31\"/>\n<text text-anchor=\"middle\" x=\"619.41\" y=\"-386.44\" font-family=\"Helvetica,sans-Serif\" font-size=\"14.00\">False</text>\n</g>\n<!-- 2 -->\n<g id=\"node3\" class=\"node\">\n<title>2</title>\n<polygon fill=\"none\" stroke=\"black\" points=\"309.5,-261 184.5,-261 184.5,-193 309.5,-193 309.5,-261\"/>\n<text text-anchor=\"middle\" x=\"247\" y=\"-245.8\" font-family=\"Helvetica,sans-Serif\" font-size=\"14.00\">x[4] &lt;= &#45;0.261</text>\n<text text-anchor=\"middle\" x=\"247\" y=\"-230.8\" font-family=\"Helvetica,sans-Serif\" font-size=\"14.00\">gini = 0.036</text>\n<text text-anchor=\"middle\" x=\"247\" y=\"-215.8\" font-family=\"Helvetica,sans-Serif\" font-size=\"14.00\">samples = 109</text>\n<text text-anchor=\"middle\" x=\"247\" y=\"-200.8\" font-family=\"Helvetica,sans-Serif\" font-size=\"14.00\">value = [107, 2, 0]</text>\n</g>\n<!-- 1&#45;&gt;2 -->\n<g id=\"edge2\" class=\"edge\">\n<title>1&#45;&gt;2</title>\n<path fill=\"none\" stroke=\"black\" d=\"M373.29,-296.88C355.23,-287.04 335.31,-276.17 316.73,-266.03\"/>\n<polygon fill=\"black\" stroke=\"black\" points=\"318.18,-262.84 307.73,-261.12 314.83,-268.99 318.18,-262.84\"/>\n</g>\n<!-- 7 -->\n<g id=\"node8\" class=\"node\">\n<title>7</title>\n<polygon fill=\"none\" stroke=\"black\" points=\"492.5,-261 375.5,-261 375.5,-193 492.5,-193 492.5,-261\"/>\n<text text-anchor=\"middle\" x=\"434\" y=\"-245.8\" font-family=\"Helvetica,sans-Serif\" font-size=\"14.00\">x[0] &lt;= 0.5</text>\n<text text-anchor=\"middle\" x=\"434\" y=\"-230.8\" font-family=\"Helvetica,sans-Serif\" font-size=\"14.00\">gini = 0.141</text>\n<text text-anchor=\"middle\" x=\"434\" y=\"-215.8\" font-family=\"Helvetica,sans-Serif\" font-size=\"14.00\">samples = 40</text>\n<text text-anchor=\"middle\" x=\"434\" y=\"-200.8\" font-family=\"Helvetica,sans-Serif\" font-size=\"14.00\">value = [2, 37, 1]</text>\n</g>\n<!-- 1&#45;&gt;7 -->\n<g id=\"edge7\" class=\"edge\">\n<title>1&#45;&gt;7</title>\n<path fill=\"none\" stroke=\"black\" d=\"M434,-296.88C434,-288.78 434,-279.98 434,-271.47\"/>\n<polygon fill=\"black\" stroke=\"black\" points=\"437.5,-271.3 434,-261.3 430.5,-271.3 437.5,-271.3\"/>\n</g>\n<!-- 3 -->\n<g id=\"node4\" class=\"node\">\n<title>3</title>\n<polygon fill=\"none\" stroke=\"black\" points=\"170,-157 60,-157 60,-89 170,-89 170,-157\"/>\n<text text-anchor=\"middle\" x=\"115\" y=\"-141.8\" font-family=\"Helvetica,sans-Serif\" font-size=\"14.00\">x[3] &lt;= &#45;0.822</text>\n<text text-anchor=\"middle\" x=\"115\" y=\"-126.8\" font-family=\"Helvetica,sans-Serif\" font-size=\"14.00\">gini = 0.298</text>\n<text text-anchor=\"middle\" x=\"115\" y=\"-111.8\" font-family=\"Helvetica,sans-Serif\" font-size=\"14.00\">samples = 11</text>\n<text text-anchor=\"middle\" x=\"115\" y=\"-96.8\" font-family=\"Helvetica,sans-Serif\" font-size=\"14.00\">value = [9, 2, 0]</text>\n</g>\n<!-- 2&#45;&gt;3 -->\n<g id=\"edge3\" class=\"edge\">\n<title>2&#45;&gt;3</title>\n<path fill=\"none\" stroke=\"black\" d=\"M204.14,-192.88C192.04,-183.53 178.75,-173.26 166.21,-163.57\"/>\n<polygon fill=\"black\" stroke=\"black\" points=\"168.15,-160.64 158.09,-157.3 163.87,-166.18 168.15,-160.64\"/>\n</g>\n<!-- 6 -->\n<g id=\"node7\" class=\"node\">\n<title>6</title>\n<polygon fill=\"none\" stroke=\"black\" points=\"305.5,-149.5 188.5,-149.5 188.5,-96.5 305.5,-96.5 305.5,-149.5\"/>\n<text text-anchor=\"middle\" x=\"247\" y=\"-134.3\" font-family=\"Helvetica,sans-Serif\" font-size=\"14.00\">gini = 0.0</text>\n<text text-anchor=\"middle\" x=\"247\" y=\"-119.3\" font-family=\"Helvetica,sans-Serif\" font-size=\"14.00\">samples = 98</text>\n<text text-anchor=\"middle\" x=\"247\" y=\"-104.3\" font-family=\"Helvetica,sans-Serif\" font-size=\"14.00\">value = [98, 0, 0]</text>\n</g>\n<!-- 2&#45;&gt;6 -->\n<g id=\"edge6\" class=\"edge\">\n<title>2&#45;&gt;6</title>\n<path fill=\"none\" stroke=\"black\" d=\"M247,-192.88C247,-182.33 247,-170.6 247,-159.85\"/>\n<polygon fill=\"black\" stroke=\"black\" points=\"250.5,-159.52 247,-149.52 243.5,-159.52 250.5,-159.52\"/>\n</g>\n<!-- 4 -->\n<g id=\"node5\" class=\"node\">\n<title>4</title>\n<polygon fill=\"none\" stroke=\"black\" points=\"110,-53 0,-53 0,0 110,0 110,-53\"/>\n<text text-anchor=\"middle\" x=\"55\" y=\"-37.8\" font-family=\"Helvetica,sans-Serif\" font-size=\"14.00\">gini = 0.0</text>\n<text text-anchor=\"middle\" x=\"55\" y=\"-22.8\" font-family=\"Helvetica,sans-Serif\" font-size=\"14.00\">samples = 9</text>\n<text text-anchor=\"middle\" x=\"55\" y=\"-7.8\" font-family=\"Helvetica,sans-Serif\" font-size=\"14.00\">value = [9, 0, 0]</text>\n</g>\n<!-- 3&#45;&gt;4 -->\n<g id=\"edge4\" class=\"edge\">\n<title>3&#45;&gt;4</title>\n<path fill=\"none\" stroke=\"black\" d=\"M94.01,-88.95C88.44,-80.17 82.41,-70.66 76.79,-61.82\"/>\n<polygon fill=\"black\" stroke=\"black\" points=\"79.66,-59.8 71.34,-53.24 73.75,-63.55 79.66,-59.8\"/>\n</g>\n<!-- 5 -->\n<g id=\"node6\" class=\"node\">\n<title>5</title>\n<polygon fill=\"none\" stroke=\"black\" points=\"238,-53 128,-53 128,0 238,0 238,-53\"/>\n<text text-anchor=\"middle\" x=\"183\" y=\"-37.8\" font-family=\"Helvetica,sans-Serif\" font-size=\"14.00\">gini = 0.0</text>\n<text text-anchor=\"middle\" x=\"183\" y=\"-22.8\" font-family=\"Helvetica,sans-Serif\" font-size=\"14.00\">samples = 2</text>\n<text text-anchor=\"middle\" x=\"183\" y=\"-7.8\" font-family=\"Helvetica,sans-Serif\" font-size=\"14.00\">value = [0, 2, 0]</text>\n</g>\n<!-- 3&#45;&gt;5 -->\n<g id=\"edge5\" class=\"edge\">\n<title>3&#45;&gt;5</title>\n<path fill=\"none\" stroke=\"black\" d=\"M138.78,-88.95C145.17,-80.07 152.08,-70.46 158.51,-61.54\"/>\n<polygon fill=\"black\" stroke=\"black\" points=\"161.48,-63.4 164.48,-53.24 155.8,-59.31 161.48,-63.4\"/>\n</g>\n<!-- 8 -->\n<g id=\"node9\" class=\"node\">\n<title>8</title>\n<polygon fill=\"none\" stroke=\"black\" points=\"434,-157 324,-157 324,-89 434,-89 434,-157\"/>\n<text text-anchor=\"middle\" x=\"379\" y=\"-141.8\" font-family=\"Helvetica,sans-Serif\" font-size=\"14.00\">x[7] &lt;= 0.5</text>\n<text text-anchor=\"middle\" x=\"379\" y=\"-126.8\" font-family=\"Helvetica,sans-Serif\" font-size=\"14.00\">gini = 0.444</text>\n<text text-anchor=\"middle\" x=\"379\" y=\"-111.8\" font-family=\"Helvetica,sans-Serif\" font-size=\"14.00\">samples = 3</text>\n<text text-anchor=\"middle\" x=\"379\" y=\"-96.8\" font-family=\"Helvetica,sans-Serif\" font-size=\"14.00\">value = [2, 0, 1]</text>\n</g>\n<!-- 7&#45;&gt;8 -->\n<g id=\"edge8\" class=\"edge\">\n<title>7&#45;&gt;8</title>\n<path fill=\"none\" stroke=\"black\" d=\"M416.14,-192.88C411.58,-184.42 406.61,-175.21 401.84,-166.35\"/>\n<polygon fill=\"black\" stroke=\"black\" points=\"404.78,-164.44 396.96,-157.3 398.62,-167.76 404.78,-164.44\"/>\n</g>\n<!-- 11 -->\n<g id=\"node12\" class=\"node\">\n<title>11</title>\n<polygon fill=\"none\" stroke=\"black\" points=\"569.5,-149.5 452.5,-149.5 452.5,-96.5 569.5,-96.5 569.5,-149.5\"/>\n<text text-anchor=\"middle\" x=\"511\" y=\"-134.3\" font-family=\"Helvetica,sans-Serif\" font-size=\"14.00\">gini = 0.0</text>\n<text text-anchor=\"middle\" x=\"511\" y=\"-119.3\" font-family=\"Helvetica,sans-Serif\" font-size=\"14.00\">samples = 37</text>\n<text text-anchor=\"middle\" x=\"511\" y=\"-104.3\" font-family=\"Helvetica,sans-Serif\" font-size=\"14.00\">value = [0, 37, 0]</text>\n</g>\n<!-- 7&#45;&gt;11 -->\n<g id=\"edge11\" class=\"edge\">\n<title>7&#45;&gt;11</title>\n<path fill=\"none\" stroke=\"black\" d=\"M459,-192.88C467.55,-181.56 477.12,-168.88 485.7,-157.52\"/>\n<polygon fill=\"black\" stroke=\"black\" points=\"488.5,-159.61 491.73,-149.52 482.92,-155.39 488.5,-159.61\"/>\n</g>\n<!-- 9 -->\n<g id=\"node10\" class=\"node\">\n<title>9</title>\n<polygon fill=\"none\" stroke=\"black\" points=\"400,-53 290,-53 290,0 400,0 400,-53\"/>\n<text text-anchor=\"middle\" x=\"345\" y=\"-37.8\" font-family=\"Helvetica,sans-Serif\" font-size=\"14.00\">gini = 0.0</text>\n<text text-anchor=\"middle\" x=\"345\" y=\"-22.8\" font-family=\"Helvetica,sans-Serif\" font-size=\"14.00\">samples = 2</text>\n<text text-anchor=\"middle\" x=\"345\" y=\"-7.8\" font-family=\"Helvetica,sans-Serif\" font-size=\"14.00\">value = [2, 0, 0]</text>\n</g>\n<!-- 8&#45;&gt;9 -->\n<g id=\"edge9\" class=\"edge\">\n<title>8&#45;&gt;9</title>\n<path fill=\"none\" stroke=\"black\" d=\"M367.11,-88.95C364.05,-80.44 360.74,-71.26 357.65,-62.65\"/>\n<polygon fill=\"black\" stroke=\"black\" points=\"360.94,-61.46 354.26,-53.24 354.35,-63.83 360.94,-61.46\"/>\n</g>\n<!-- 10 -->\n<g id=\"node11\" class=\"node\">\n<title>10</title>\n<polygon fill=\"none\" stroke=\"black\" points=\"528,-53 418,-53 418,0 528,0 528,-53\"/>\n<text text-anchor=\"middle\" x=\"473\" y=\"-37.8\" font-family=\"Helvetica,sans-Serif\" font-size=\"14.00\">gini = 0.0</text>\n<text text-anchor=\"middle\" x=\"473\" y=\"-22.8\" font-family=\"Helvetica,sans-Serif\" font-size=\"14.00\">samples = 1</text>\n<text text-anchor=\"middle\" x=\"473\" y=\"-7.8\" font-family=\"Helvetica,sans-Serif\" font-size=\"14.00\">value = [0, 0, 1]</text>\n</g>\n<!-- 8&#45;&gt;10 -->\n<g id=\"edge10\" class=\"edge\">\n<title>8&#45;&gt;10</title>\n<path fill=\"none\" stroke=\"black\" d=\"M411.88,-88.95C421.07,-79.71 431.05,-69.67 440.24,-60.44\"/>\n<polygon fill=\"black\" stroke=\"black\" points=\"442.83,-62.79 447.4,-53.24 437.87,-57.86 442.83,-62.79\"/>\n</g>\n<!-- 13 -->\n<g id=\"node14\" class=\"node\">\n<title>13</title>\n<polygon fill=\"none\" stroke=\"black\" points=\"698,-261 588,-261 588,-193 698,-193 698,-261\"/>\n<text text-anchor=\"middle\" x=\"643\" y=\"-245.8\" font-family=\"Helvetica,sans-Serif\" font-size=\"14.00\">x[3] &lt;= 0.468</text>\n<text text-anchor=\"middle\" x=\"643\" y=\"-230.8\" font-family=\"Helvetica,sans-Serif\" font-size=\"14.00\">gini = 0.48</text>\n<text text-anchor=\"middle\" x=\"643\" y=\"-215.8\" font-family=\"Helvetica,sans-Serif\" font-size=\"14.00\">samples = 5</text>\n<text text-anchor=\"middle\" x=\"643\" y=\"-200.8\" font-family=\"Helvetica,sans-Serif\" font-size=\"14.00\">value = [2, 3, 0]</text>\n</g>\n<!-- 12&#45;&gt;13 -->\n<g id=\"edge13\" class=\"edge\">\n<title>12&#45;&gt;13</title>\n<path fill=\"none\" stroke=\"black\" d=\"M643,-296.88C643,-288.78 643,-279.98 643,-271.47\"/>\n<polygon fill=\"black\" stroke=\"black\" points=\"646.5,-271.3 643,-261.3 639.5,-271.3 646.5,-271.3\"/>\n</g>\n<!-- 16 -->\n<g id=\"node17\" class=\"node\">\n<title>16</title>\n<polygon fill=\"none\" stroke=\"black\" points=\"833.5,-253.5 716.5,-253.5 716.5,-200.5 833.5,-200.5 833.5,-253.5\"/>\n<text text-anchor=\"middle\" x=\"775\" y=\"-238.3\" font-family=\"Helvetica,sans-Serif\" font-size=\"14.00\">gini = 0.0</text>\n<text text-anchor=\"middle\" x=\"775\" y=\"-223.3\" font-family=\"Helvetica,sans-Serif\" font-size=\"14.00\">samples = 95</text>\n<text text-anchor=\"middle\" x=\"775\" y=\"-208.3\" font-family=\"Helvetica,sans-Serif\" font-size=\"14.00\">value = [0, 0, 95]</text>\n</g>\n<!-- 12&#45;&gt;16 -->\n<g id=\"edge16\" class=\"edge\">\n<title>12&#45;&gt;16</title>\n<path fill=\"none\" stroke=\"black\" d=\"M685.86,-296.88C701.23,-285.01 718.52,-271.65 733.75,-259.88\"/>\n<polygon fill=\"black\" stroke=\"black\" points=\"736.2,-262.4 741.97,-253.52 731.92,-256.86 736.2,-262.4\"/>\n</g>\n<!-- 14 -->\n<g id=\"node15\" class=\"node\">\n<title>14</title>\n<polygon fill=\"none\" stroke=\"black\" points=\"698,-149.5 588,-149.5 588,-96.5 698,-96.5 698,-149.5\"/>\n<text text-anchor=\"middle\" x=\"643\" y=\"-134.3\" font-family=\"Helvetica,sans-Serif\" font-size=\"14.00\">gini = 0.0</text>\n<text text-anchor=\"middle\" x=\"643\" y=\"-119.3\" font-family=\"Helvetica,sans-Serif\" font-size=\"14.00\">samples = 2</text>\n<text text-anchor=\"middle\" x=\"643\" y=\"-104.3\" font-family=\"Helvetica,sans-Serif\" font-size=\"14.00\">value = [2, 0, 0]</text>\n</g>\n<!-- 13&#45;&gt;14 -->\n<g id=\"edge14\" class=\"edge\">\n<title>13&#45;&gt;14</title>\n<path fill=\"none\" stroke=\"black\" d=\"M643,-192.88C643,-182.33 643,-170.6 643,-159.85\"/>\n<polygon fill=\"black\" stroke=\"black\" points=\"646.5,-159.52 643,-149.52 639.5,-159.52 646.5,-159.52\"/>\n</g>\n<!-- 15 -->\n<g id=\"node16\" class=\"node\">\n<title>15</title>\n<polygon fill=\"none\" stroke=\"black\" points=\"826,-149.5 716,-149.5 716,-96.5 826,-96.5 826,-149.5\"/>\n<text text-anchor=\"middle\" x=\"771\" y=\"-134.3\" font-family=\"Helvetica,sans-Serif\" font-size=\"14.00\">gini = 0.0</text>\n<text text-anchor=\"middle\" x=\"771\" y=\"-119.3\" font-family=\"Helvetica,sans-Serif\" font-size=\"14.00\">samples = 3</text>\n<text text-anchor=\"middle\" x=\"771\" y=\"-104.3\" font-family=\"Helvetica,sans-Serif\" font-size=\"14.00\">value = [0, 3, 0]</text>\n</g>\n<!-- 13&#45;&gt;15 -->\n<g id=\"edge15\" class=\"edge\">\n<title>13&#45;&gt;15</title>\n<path fill=\"none\" stroke=\"black\" d=\"M684.56,-192.88C699.46,-181.01 716.23,-167.65 731,-155.88\"/>\n<polygon fill=\"black\" stroke=\"black\" points=\"733.34,-158.49 738.97,-149.52 728.97,-153.01 733.34,-158.49\"/>\n</g>\n</g>\n</svg>\n",
            "text/plain": [
              "<graphviz.sources.Source at 0x7e47487058a0>"
            ]
          },
          "metadata": {},
          "execution_count": 19
        }
      ]
    },
    {
      "cell_type": "code",
      "source": [
        "import matplotlib.pyplot as plt\n",
        "from sklearn.metrics import confusion_matrix\n",
        "\n",
        "target_predicted = model.predict(predictors_test)\n",
        "\n",
        "confusion_matrix = confusion_matrix(target_test, target_predicted)\n",
        "print(confusion_matrix)\n",
        "\n"
      ],
      "metadata": {
        "colab": {
          "base_uri": "https://localhost:8080/"
        },
        "id": "GSxDd9DLKKhb",
        "outputId": "d61bb449-f0d1-4680-a8f7-cd94674ba985"
      },
      "execution_count": null,
      "outputs": [
        {
          "output_type": "stream",
          "name": "stdout",
          "text": [
            "[[35  0  0]\n",
            " [ 4 22  0]\n",
            " [ 0  0 23]]\n"
          ]
        }
      ]
    },
    {
      "cell_type": "markdown",
      "metadata": {
        "id": "FR5EL6LplbtK"
      },
      "source": [
        "**b.** Acurácia"
      ]
    },
    {
      "cell_type": "markdown",
      "metadata": {
        "id": "AGPKGSpFMawA"
      },
      "source": [
        "Calcule a **acurácia** para o modelo de **árvore de decisão** treinado com os **dados de teste** (1/3)."
      ]
    },
    {
      "cell_type": "markdown",
      "metadata": {
        "id": "p2HS4aPiR_fM"
      },
      "source": [
        "> **Nota:** Como referência, eu consegui uma acurácia de approx. 96% (sua acurácia pode não ser igual)."
      ]
    },
    {
      "cell_type": "code",
      "metadata": {
        "id": "01FCw7iEMawB",
        "colab": {
          "base_uri": "https://localhost:8080/"
        },
        "outputId": "505a51f0-2a7f-454b-c6e9-8defbf82847b"
      },
      "source": [
        "# resposta da questão 3.2.b\n",
        "\n",
        "from sklearn.metrics import accuracy_score\n",
        "\n",
        "acuracia = accuracy_score(target_test, target_predicted)\n",
        "print(acuracia)\n"
      ],
      "execution_count": null,
      "outputs": [
        {
          "output_type": "stream",
          "name": "stdout",
          "text": [
            "0.9523809523809523\n"
          ]
        }
      ]
    },
    {
      "cell_type": "markdown",
      "metadata": {
        "id": "f2G0LAZ1Mfrk"
      },
      "source": [
        "## 4\\. Predição  "
      ]
    },
    {
      "cell_type": "markdown",
      "metadata": {
        "id": "71EeKkThMnbD"
      },
      "source": [
        "### **4.1. Novo penguim**"
      ]
    },
    {
      "cell_type": "markdown",
      "metadata": {
        "id": "JZfFc-OyMfrm"
      },
      "source": [
        "Qual a espécie de um penguim com as seguintes características:\n"
      ]
    },
    {
      "cell_type": "markdown",
      "metadata": {
        "id": "P0Q-QJ-CM099"
      },
      "source": [
        "| island | bill_length_mm | bill_depth_mm | flipper_length_mm | body_mass_g | sex |\n",
        "| --- | --- | --- | --- | --- | --- |\n",
        "| Biscoe | 38.2 | 18.1 | 185.0 | 3950.0 | Male |"
      ]
    },
    {
      "cell_type": "markdown",
      "metadata": {
        "id": "IbUFEJGGNBpD"
      },
      "source": [
        "> **Atenção:** Lembre-se de pre-processar os atributos assim como nos exercício 2.2. A ordem dos atributos importa, deve ser a mesma usada na modelagem."
      ]
    },
    {
      "cell_type": "markdown",
      "metadata": {
        "id": "BUiRiNDgWS6B"
      },
      "source": [
        "> **Nota:** Como referência eu obtive **adelie** como espécie predita (a sua predição pode não ser igual)."
      ]
    },
    {
      "cell_type": "code",
      "source": [
        "data.head(1)"
      ],
      "metadata": {
        "colab": {
          "base_uri": "https://localhost:8080/",
          "height": 101
        },
        "id": "nmDDnr_pNcXs",
        "outputId": "7222f64d-b8da-408b-c18c-04ed8a33f83b"
      },
      "execution_count": null,
      "outputs": [
        {
          "output_type": "execute_result",
          "data": {
            "text/plain": [
              "  species  island_Dream_nom  island_Torgersen_nom  island_Biscoe_nom  \\\n",
              "0  Adelie                 0                     1                  0   \n",
              "\n",
              "   bill_length_mm_std  bill_depth_mm_std  flipper_length_mm_std  \\\n",
              "0           -0.894695           0.779559              -1.424608   \n",
              "\n",
              "   body_mass_g_std  sex_female  sex_male  \n",
              "0        -0.567621           0         1  "
            ],
            "text/html": [
              "\n",
              "  <div id=\"df-8e8069a0-80d6-4ea0-a5cf-660e906d2c58\" class=\"colab-df-container\">\n",
              "    <div>\n",
              "<style scoped>\n",
              "    .dataframe tbody tr th:only-of-type {\n",
              "        vertical-align: middle;\n",
              "    }\n",
              "\n",
              "    .dataframe tbody tr th {\n",
              "        vertical-align: top;\n",
              "    }\n",
              "\n",
              "    .dataframe thead th {\n",
              "        text-align: right;\n",
              "    }\n",
              "</style>\n",
              "<table border=\"1\" class=\"dataframe\">\n",
              "  <thead>\n",
              "    <tr style=\"text-align: right;\">\n",
              "      <th></th>\n",
              "      <th>species</th>\n",
              "      <th>island_Dream_nom</th>\n",
              "      <th>island_Torgersen_nom</th>\n",
              "      <th>island_Biscoe_nom</th>\n",
              "      <th>bill_length_mm_std</th>\n",
              "      <th>bill_depth_mm_std</th>\n",
              "      <th>flipper_length_mm_std</th>\n",
              "      <th>body_mass_g_std</th>\n",
              "      <th>sex_female</th>\n",
              "      <th>sex_male</th>\n",
              "    </tr>\n",
              "  </thead>\n",
              "  <tbody>\n",
              "    <tr>\n",
              "      <th>0</th>\n",
              "      <td>Adelie</td>\n",
              "      <td>0</td>\n",
              "      <td>1</td>\n",
              "      <td>0</td>\n",
              "      <td>-0.894695</td>\n",
              "      <td>0.779559</td>\n",
              "      <td>-1.424608</td>\n",
              "      <td>-0.567621</td>\n",
              "      <td>0</td>\n",
              "      <td>1</td>\n",
              "    </tr>\n",
              "  </tbody>\n",
              "</table>\n",
              "</div>\n",
              "    <div class=\"colab-df-buttons\">\n",
              "\n",
              "  <div class=\"colab-df-container\">\n",
              "    <button class=\"colab-df-convert\" onclick=\"convertToInteractive('df-8e8069a0-80d6-4ea0-a5cf-660e906d2c58')\"\n",
              "            title=\"Convert this dataframe to an interactive table.\"\n",
              "            style=\"display:none;\">\n",
              "\n",
              "  <svg xmlns=\"http://www.w3.org/2000/svg\" height=\"24px\" viewBox=\"0 -960 960 960\">\n",
              "    <path d=\"M120-120v-720h720v720H120Zm60-500h600v-160H180v160Zm220 220h160v-160H400v160Zm0 220h160v-160H400v160ZM180-400h160v-160H180v160Zm440 0h160v-160H620v160ZM180-180h160v-160H180v160Zm440 0h160v-160H620v160Z\"/>\n",
              "  </svg>\n",
              "    </button>\n",
              "\n",
              "  <style>\n",
              "    .colab-df-container {\n",
              "      display:flex;\n",
              "      gap: 12px;\n",
              "    }\n",
              "\n",
              "    .colab-df-convert {\n",
              "      background-color: #E8F0FE;\n",
              "      border: none;\n",
              "      border-radius: 50%;\n",
              "      cursor: pointer;\n",
              "      display: none;\n",
              "      fill: #1967D2;\n",
              "      height: 32px;\n",
              "      padding: 0 0 0 0;\n",
              "      width: 32px;\n",
              "    }\n",
              "\n",
              "    .colab-df-convert:hover {\n",
              "      background-color: #E2EBFA;\n",
              "      box-shadow: 0px 1px 2px rgba(60, 64, 67, 0.3), 0px 1px 3px 1px rgba(60, 64, 67, 0.15);\n",
              "      fill: #174EA6;\n",
              "    }\n",
              "\n",
              "    .colab-df-buttons div {\n",
              "      margin-bottom: 4px;\n",
              "    }\n",
              "\n",
              "    [theme=dark] .colab-df-convert {\n",
              "      background-color: #3B4455;\n",
              "      fill: #D2E3FC;\n",
              "    }\n",
              "\n",
              "    [theme=dark] .colab-df-convert:hover {\n",
              "      background-color: #434B5C;\n",
              "      box-shadow: 0px 1px 3px 1px rgba(0, 0, 0, 0.15);\n",
              "      filter: drop-shadow(0px 1px 2px rgba(0, 0, 0, 0.3));\n",
              "      fill: #FFFFFF;\n",
              "    }\n",
              "  </style>\n",
              "\n",
              "    <script>\n",
              "      const buttonEl =\n",
              "        document.querySelector('#df-8e8069a0-80d6-4ea0-a5cf-660e906d2c58 button.colab-df-convert');\n",
              "      buttonEl.style.display =\n",
              "        google.colab.kernel.accessAllowed ? 'block' : 'none';\n",
              "\n",
              "      async function convertToInteractive(key) {\n",
              "        const element = document.querySelector('#df-8e8069a0-80d6-4ea0-a5cf-660e906d2c58');\n",
              "        const dataTable =\n",
              "          await google.colab.kernel.invokeFunction('convertToInteractive',\n",
              "                                                    [key], {});\n",
              "        if (!dataTable) return;\n",
              "\n",
              "        const docLinkHtml = 'Like what you see? Visit the ' +\n",
              "          '<a target=\"_blank\" href=https://colab.research.google.com/notebooks/data_table.ipynb>data table notebook</a>'\n",
              "          + ' to learn more about interactive tables.';\n",
              "        element.innerHTML = '';\n",
              "        dataTable['output_type'] = 'display_data';\n",
              "        await google.colab.output.renderOutput(dataTable, element);\n",
              "        const docLink = document.createElement('div');\n",
              "        docLink.innerHTML = docLinkHtml;\n",
              "        element.appendChild(docLink);\n",
              "      }\n",
              "    </script>\n",
              "  </div>\n",
              "\n",
              "\n",
              "    </div>\n",
              "  </div>\n"
            ],
            "application/vnd.google.colaboratory.intrinsic+json": {
              "type": "dataframe",
              "variable_name": "data",
              "summary": "{\n  \"name\": \"data\",\n  \"rows\": 333,\n  \"fields\": [\n    {\n      \"column\": \"species\",\n      \"properties\": {\n        \"dtype\": \"category\",\n        \"num_unique_values\": 3,\n        \"samples\": [\n          \"Adelie\",\n          \"Chinstrap\",\n          \"Gentoo\"\n        ],\n        \"semantic_type\": \"\",\n        \"description\": \"\"\n      }\n    },\n    {\n      \"column\": \"island_Dream_nom\",\n      \"properties\": {\n        \"dtype\": \"number\",\n        \"std\": 0,\n        \"min\": 0,\n        \"max\": 1,\n        \"num_unique_values\": 2,\n        \"samples\": [\n          1,\n          0\n        ],\n        \"semantic_type\": \"\",\n        \"description\": \"\"\n      }\n    },\n    {\n      \"column\": \"island_Torgersen_nom\",\n      \"properties\": {\n        \"dtype\": \"number\",\n        \"std\": 0,\n        \"min\": 0,\n        \"max\": 1,\n        \"num_unique_values\": 2,\n        \"samples\": [\n          0,\n          1\n        ],\n        \"semantic_type\": \"\",\n        \"description\": \"\"\n      }\n    },\n    {\n      \"column\": \"island_Biscoe_nom\",\n      \"properties\": {\n        \"dtype\": \"number\",\n        \"std\": 0,\n        \"min\": 0,\n        \"max\": 1,\n        \"num_unique_values\": 2,\n        \"samples\": [\n          1,\n          0\n        ],\n        \"semantic_type\": \"\",\n        \"description\": \"\"\n      }\n    },\n    {\n      \"column\": \"bill_length_mm_std\",\n      \"properties\": {\n        \"dtype\": \"number\",\n        \"std\": 1.0,\n        \"min\": -2.174714582715964,\n        \"max\": 2.853931931745427,\n        \"num_unique_values\": 163,\n        \"samples\": [\n          2.853931931745427,\n          0.7510433893342997\n        ],\n        \"semantic_type\": \"\",\n        \"description\": \"\"\n      }\n    },\n    {\n      \"column\": \"bill_depth_mm_std\",\n      \"properties\": {\n        \"dtype\": \"number\",\n        \"std\": 0.9999999999999998,\n        \"min\": -2.0641842687577734,\n        \"max\": 2.2014305632230515,\n        \"num_unique_values\": 79,\n        \"samples\": [\n          1.1858079841799982,\n          0.7795589525627764\n        ],\n        \"semantic_type\": \"\",\n        \"description\": \"\"\n      }\n    },\n    {\n      \"column\": \"flipper_length_mm_std\",\n      \"properties\": {\n        \"dtype\": \"number\",\n        \"std\": 1.0,\n        \"min\": -2.066741727700941,\n        \"max\": 2.1428036511234825,\n        \"num_unique_values\": 54,\n        \"samples\": [\n          -0.9251700995451649,\n          2.1428036511234825\n        ],\n        \"semantic_type\": \"\",\n        \"description\": \"\"\n      }\n    },\n    {\n      \"column\": \"body_mass_g_std\",\n      \"properties\": {\n        \"dtype\": \"number\",\n        \"std\": 1.0,\n        \"min\": -1.8716188299095664,\n        \"max\": 2.599232327399566,\n        \"num_unique_values\": 93,\n        \"samples\": [\n          0.6432349460768205,\n          -1.3748575902085516\n        ],\n        \"semantic_type\": \"\",\n        \"description\": \"\"\n      }\n    },\n    {\n      \"column\": \"sex_female\",\n      \"properties\": {\n        \"dtype\": \"number\",\n        \"std\": 0,\n        \"min\": 0,\n        \"max\": 1,\n        \"num_unique_values\": 2,\n        \"samples\": [\n          1,\n          0\n        ],\n        \"semantic_type\": \"\",\n        \"description\": \"\"\n      }\n    },\n    {\n      \"column\": \"sex_male\",\n      \"properties\": {\n        \"dtype\": \"number\",\n        \"std\": 0,\n        \"min\": 0,\n        \"max\": 1,\n        \"num_unique_values\": 2,\n        \"samples\": [\n          0,\n          1\n        ],\n        \"semantic_type\": \"\",\n        \"description\": \"\"\n      }\n    }\n  ]\n}"
            }
          },
          "metadata": {},
          "execution_count": 23
        }
      ]
    },
    {
      "cell_type": "code",
      "metadata": {
        "id": "t0dPBLw9Mfrm"
      },
      "source": [
        "# resposta da questão 4.1\n",
        "\n",
        "bill_length_mm = ((38.2 - penguim['bill_length_mm'].mean()) / penguim['bill_length_mm'].std())\n",
        "bill_depth_mm = ((18.1 - penguim['bill_depth_mm'].mean()) / penguim['bill_depth_mm'].std())\n",
        "flipper_length_mm = ((185 - penguim['flipper_length_mm'].mean()) / penguim['flipper_length_mm'].std())\n",
        "body_mass_g = ((3950 - penguim['body_mass_g'].mean()) / penguim['body_mass_g'].std())\n",
        "\n",
        "pinguim = np.array([0,0,1, bill_length_mm, bill_depth_mm, flipper_length_mm, body_mass_g, 0, 1])"
      ],
      "execution_count": null,
      "outputs": []
    },
    {
      "cell_type": "code",
      "source": [
        "especie = model.predict(pinguim.reshape(1, -1))\n",
        "\n",
        "print(especie)"
      ],
      "metadata": {
        "colab": {
          "base_uri": "https://localhost:8080/"
        },
        "id": "qwVB8wkGP8Cw",
        "outputId": "83d3980b-eeda-4e51-e300-1448917a7097"
      },
      "execution_count": null,
      "outputs": [
        {
          "output_type": "stream",
          "name": "stdout",
          "text": [
            "['Adelie']\n"
          ]
        },
        {
          "output_type": "stream",
          "name": "stderr",
          "text": [
            "/usr/local/lib/python3.10/dist-packages/sklearn/base.py:493: UserWarning: X does not have valid feature names, but DecisionTreeClassifier was fitted with feature names\n",
            "  warnings.warn(\n"
          ]
        }
      ]
    },
    {
      "cell_type": "markdown",
      "metadata": {
        "id": "waxn4B2UDHyl"
      },
      "source": [
        "---"
      ]
    }
  ]
}